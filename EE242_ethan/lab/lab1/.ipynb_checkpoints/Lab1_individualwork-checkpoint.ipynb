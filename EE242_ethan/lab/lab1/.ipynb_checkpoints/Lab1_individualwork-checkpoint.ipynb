{
 "cells": [
  {
   "cell_type": "markdown",
   "id": "7fcaea2e",
   "metadata": {},
   "source": [
    "Individual Work from Ethan Jiang"
   ]
  },
  {
   "cell_type": "code",
   "execution_count": 1,
   "id": "4714dfc3",
   "metadata": {},
   "outputs": [],
   "source": [
    "import numpy as np\n",
    "import matplotlib\n",
    "import matplotlib.pyplot as plt\n",
    "from scipy.io import wavfile as wav \n",
    "import simpleaudio as sa\n",
    "from scipy import signal as sig"
   ]
  },
  {
   "cell_type": "code",
   "execution_count": 2,
   "id": "7d8b348f",
   "metadata": {},
   "outputs": [
    {
     "name": "stdout",
     "output_type": "stream",
     "text": [
      "8000 [     0   5633  11099 ... -20886 -11099      0]\n",
      "8000 [     0 -11099 -20886 ...  11099   5633      0]\n",
      "[2 2 2 ... 2 2 2]\n"
     ]
    }
   ],
   "source": [
    "fs1, data1 = wav.read('a_major_scale.wav')\n",
    "fs2, data2 = wav.read('a_major_scale_flip.wav')\n",
    "int_2 = (np.ones(len(data1))*2).astype(int) # using this list for mult\n",
    "print(fs1, data1)\n",
    "print(fs2, data2)\n",
    "print(int_2)"
   ]
  },
  {
   "cell_type": "code",
   "execution_count": 3,
   "id": "21669003",
   "metadata": {},
   "outputs": [
    {
     "name": "stdout",
     "output_type": "stream",
     "text": [
      "[    0 -2733 -4893 ... -4893 -2733     0]\n"
     ]
    }
   ],
   "source": [
    "data_add = (np.add(data1,data2)/2).astype(int) # data after addition\n",
    "print(data_add)"
   ]
  },
  {
   "cell_type": "code",
   "execution_count": 4,
   "id": "fc60ddba",
   "metadata": {},
   "outputs": [
    {
     "name": "stdout",
     "output_type": "stream",
     "text": [
      "[    0 -5466 -9786 ... -9786 -5466     0]\n"
     ]
    }
   ],
   "source": [
    "data_mult = np.multiply(data_add,int_2) # data after add and mult\n",
    "print(data_mult)"
   ]
  },
  {
   "cell_type": "code",
   "execution_count": 5,
   "id": "a05cf793",
   "metadata": {},
   "outputs": [],
   "source": [
    "def timescale(x, fs, a):\n",
    "    #n, d = decimal.Decimal(a).as_integer_ratio()\n",
    "    [n, d] = (np.double(a)).as_integer_ratio()\n",
    "    y = sig.resample_poly(x,d,n)\n",
    "    t = np.arange(0,len(y),1)*(1.0/fs)\n",
    "    return y,t\n",
    "\n",
    "data_tsc,t_tsc = timescale(data_mult,8000,3) #time scale the signal, 3 times faster"
   ]
  },
  {
   "cell_type": "code",
   "execution_count": 6,
   "id": "4046ffb2",
   "metadata": {},
   "outputs": [],
   "source": [
    "def timeshift(x, fs, t0):\n",
    "    n0 = int(np.abs(t0*fs)) \n",
    "    zero = np.zeros(n0)   \n",
    "    \n",
    "    if (t0 < 0):\n",
    "        y = np.concatenate([zero,x])\n",
    "    elif (t0 >= 0 and n0 < len(x)):\n",
    "        y = x[n0:]\n",
    "        np.append(y,zero)\n",
    "    else:\n",
    "        y = np.zeros(n0)\n",
    "        \n",
    "    t = np.arange(0,len(y),1)*(1.0/fs)\n",
    "    return y,t\n",
    "\n",
    "data_ts,t_ts = timeshift(data_tsc,8000,-2)  # time shifting, delay 2s"
   ]
  },
  {
   "cell_type": "code",
   "execution_count": 7,
   "id": "58f63f85",
   "metadata": {},
   "outputs": [
    {
     "data": {
      "text/plain": [
       "<simpleaudio.shiny.PlayObject at 0x24e5fb08c40>"
      ]
     },
     "execution_count": 7,
     "metadata": {},
     "output_type": "execute_result"
    }
   ],
   "source": [
    "outfile = 'result.wav'\n",
    "wav.write(outfile, fs1, data_ts.astype('int16'))\n",
    "wav_obj = sa.WaveObject.from_wave_file('result.wav')\n",
    "wav_obj.play()"
   ]
  },
  {
   "cell_type": "code",
   "execution_count": null,
   "id": "3396efd1",
   "metadata": {},
   "outputs": [],
   "source": []
  },
  {
   "cell_type": "code",
   "execution_count": null,
   "id": "c03a9ab1",
   "metadata": {},
   "outputs": [],
   "source": []
  }
 ],
 "metadata": {
  "kernelspec": {
   "display_name": "Python 3 (ipykernel)",
   "language": "python",
   "name": "python3"
  },
  "language_info": {
   "codemirror_mode": {
    "name": "ipython",
    "version": 3
   },
   "file_extension": ".py",
   "mimetype": "text/x-python",
   "name": "python",
   "nbconvert_exporter": "python",
   "pygments_lexer": "ipython3",
   "version": "3.9.7"
  }
 },
 "nbformat": 4,
 "nbformat_minor": 5
}
