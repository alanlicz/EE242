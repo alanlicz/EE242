{
 "cells": [
  {
   "cell_type": "markdown",
   "metadata": {},
   "source": [
    "## EE 242 Lab 1 – Modifying Signals\n",
    "\n",
    "Ethan Jiang, Jizhe Lian, Jasper Chen \n",
    "\n",
    "(This should be a markup cell, which means that when you run it you just get formated text.)"
   ]
  },
  {
   "cell_type": "code",
   "execution_count": 15,
   "metadata": {},
   "outputs": [
    {
     "ename": "ModuleNotFoundError",
     "evalue": "No module named 'simpleaudio'",
     "output_type": "error",
     "traceback": [
      "\u001b[1;31m---------------------------------------------------------------------------\u001b[0m",
      "\u001b[1;31mModuleNotFoundError\u001b[0m                       Traceback (most recent call last)",
      "\u001b[1;32m~\\AppData\\Local\\Temp/ipykernel_26184/1396680401.py\u001b[0m in \u001b[0;36m<module>\u001b[1;34m\u001b[0m\n\u001b[0;32m      5\u001b[0m \u001b[1;32mimport\u001b[0m \u001b[0mmatplotlib\u001b[0m\u001b[1;33m.\u001b[0m\u001b[0mpyplot\u001b[0m \u001b[1;32mas\u001b[0m \u001b[0mplt\u001b[0m\u001b[1;33m\u001b[0m\u001b[1;33m\u001b[0m\u001b[0m\n\u001b[0;32m      6\u001b[0m \u001b[1;32mfrom\u001b[0m \u001b[0mscipy\u001b[0m\u001b[1;33m.\u001b[0m\u001b[0mio\u001b[0m \u001b[1;32mimport\u001b[0m \u001b[0mwavfile\u001b[0m \u001b[1;32mas\u001b[0m \u001b[0mwav\u001b[0m\u001b[1;33m\u001b[0m\u001b[1;33m\u001b[0m\u001b[0m\n\u001b[1;32m----> 7\u001b[1;33m \u001b[1;32mimport\u001b[0m \u001b[0msimpleaudio\u001b[0m \u001b[1;32mas\u001b[0m \u001b[0msa\u001b[0m\u001b[1;33m\u001b[0m\u001b[1;33m\u001b[0m\u001b[0m\n\u001b[0m\u001b[0;32m      8\u001b[0m \u001b[1;32mfrom\u001b[0m \u001b[0mscipy\u001b[0m \u001b[1;32mimport\u001b[0m \u001b[0msignal\u001b[0m \u001b[1;32mas\u001b[0m \u001b[0msig\u001b[0m\u001b[1;33m\u001b[0m\u001b[1;33m\u001b[0m\u001b[0m\n\u001b[0;32m      9\u001b[0m \u001b[1;33m\u001b[0m\u001b[0m\n",
      "\u001b[1;31mModuleNotFoundError\u001b[0m: No module named 'simpleaudio'"
     ]
    }
   ],
   "source": [
    "# We'll refer to this as the \"import cell.\" Every module you import should be imported here.\n",
    "%matplotlib notebook\n",
    "import numpy as np\n",
    "import matplotlib\n",
    "import matplotlib.pyplot as plt\n",
    "from scipy.io import wavfile as wav \n",
    "import simpleaudio as sa\n",
    "from scipy import signal as sig\n",
    "\n",
    "# import whatever other modules you use in this lab -- there are more that you need than we've included "
   ]
  },
  {
   "cell_type": "markdown",
   "metadata": {},
   "source": [
    "## Summary\n",
    "\n",
    "In this lab, you will work through a series of exercises to introduce you to working with audio signals and explore the impact of different amplitude and time operations on signals.  This is a two-week lab.  You should plan on completing the first 2 assignments in the first week."
   ]
  },
  {
   "cell_type": "markdown",
   "metadata": {},
   "source": [
    "## Lab 1 turn in checklist\n",
    "\n",
    "•\tPre-lab (upload to canvas before lab)\n",
    "\n",
    "•\tLab 1 Jupyter notebook with code for the first 4 exercises assignment in separate cells. Each assignment cell should contain markdown cells (same as lab overview cells) for the responses to lab report questions. Include your lab members’ names at the top of the notebook.\n",
    "\n",
    "•\t1 individual Jupyter notebook with code + markdown cells for the last exercise\n",
    "\n",
    "Note: The pre-lab should be done individually, and all other assignments should be completed in groups of 3-4 people.\n"
   ]
  },
  {
   "cell_type": "markdown",
   "metadata": {},
   "source": [
    "## Assignment 1 -- Working with sound files"
   ]
  },
  {
   "cell_type": "code",
   "execution_count": null,
   "metadata": {},
   "outputs": [],
   "source": [
    "# Assignment 1 - Time Scaling Function\n",
    "\n",
    "# Part A\n",
    "\n",
    "# Start with a comment section that explains what the input and output variables are, e.g.\n",
    "# x: input signal vector\n",
    "# fs: sampling rate (in Hz)\n",
    "# a: scaling parameter. This has to be a decimal value for as_integer_ratio to work. \n",
    "# So, explicitly casting it into a float or a double or any fractional data type will help.\n",
    "# returns t: time samples vector corresponding to y: scaled signal\n",
    "\n",
    "fs1, x1 = wav.read('train32.wav')                     \n",
    "print('Sampling rate: ' + str(fs1) + 'Hz')                # Extract sampling frequency\n",
    "print('Channels: ' + str(len(x1.shape)))   \n",
    "\n",
    "print(x1)\n",
    "print(fs1)"
   ]
  },
  {
   "cell_type": "code",
   "execution_count": null,
   "metadata": {},
   "outputs": [],
   "source": [
    "# Part B\n",
    "# TODO: Code that solves B\n",
    "fs2 = round(fs1/2)\n",
    "fs3 = round(1.5*fs1)\n",
    "\n",
    "outfile16 = 'train16.wav'\n",
    "outfile48 = 'train48.wav'\n",
    "wav.write(outfile16, fs2, x1.astype('int16'))\n",
    "wav.write(outfile48, fs3, x1.astype('int16'))"
   ]
  },
  {
   "cell_type": "code",
   "execution_count": null,
   "metadata": {},
   "outputs": [],
   "source": [
    "# Part C\n",
    "# TODO: Code that solves C\n",
    "\n",
    "wav_obj16 = sa.WaveObject.from_wave_file('train16.wav')\n",
    "wav_obj32 = sa.WaveObject.from_wave_file('train32.wav')\n",
    "wav_obj48 = sa.WaveObject.from_wave_file('train48.wav')\n",
    "\n",
    "wav_obj16.play().wait_done()\n",
    "wav_obj32.play().wait_done()\n",
    "wav_obj48.play()\n"
   ]
  },
  {
   "cell_type": "markdown",
   "metadata": {},
   "source": [
    "###  Discussion\n",
    "Since we are not modify the mugnitude, the volume of the sound remains the same.\n",
    "When the different sample frequencys is used, the sampling period will be change correspondly, base on the equation fs = 1/Ts, 1/fs = Ts. As the sampling frequency decreases, the sampling period increases. As the frequency increase, the pitch goes high, the duration of the sound decrease in time, and the speed of the sound increases. As the frequency decrease, the pitch goes low, the duration of the sound extend, and the speed of the sound decrease. \n",
    "\n"
   ]
  },
  {
   "cell_type": "markdown",
   "metadata": {},
   "source": [
    "## Assignment 2 -- Amplitude Operations on Signals"
   ]
  },
  {
   "cell_type": "code",
   "execution_count": null,
   "metadata": {},
   "outputs": [],
   "source": [
    "# Assignment 2 - Amplitude Operations on Signals\n",
    "# Part A\n",
    "# TODO: Code that solves A\n",
    "# Start with a comment section that explains what the input variables are\n",
    "\n",
    "s1 = np.ones(x1.size) # generate a list have same size as x1\n",
    "s1 = s1*0.2\n",
    "s1[0:16000] = 1       # t/Ts = 160000   Ts = 1/fs = 0.00003125 t=0.5\n",
    "\n",
    "n0 = 16000\n",
    "\n",
    "v1 = np.multiply(s1, x1)\n",
    "outfilev1 = 'v1.wav'\n",
    "wav.write(outfilev1, fs1, v1.astype('int16'))\n"
   ]
  },
  {
   "cell_type": "code",
   "execution_count": 12,
   "metadata": {},
   "outputs": [],
   "source": [
    "# Assignment 2 - Title of Assignment 2\n",
    "\n",
    "# Part B\n",
    "# TODO: Code that solves B\n",
    "\n",
    "r1 = np.linspace(1,0,x1.size)\n",
    "v2 = np.multiply(x1, r1)\n",
    "outfilev2 = 'v2.wav'\n",
    "wav.write(outfilev2, fs1, v2.astype('int16'))\n",
    "\n",
    "\n"
   ]
  },
  {
   "cell_type": "code",
   "execution_count": 13,
   "metadata": {},
   "outputs": [
    {
     "ename": "NameError",
     "evalue": "name 'sa' is not defined",
     "output_type": "error",
     "traceback": [
      "\u001b[1;31m---------------------------------------------------------------------------\u001b[0m",
      "\u001b[1;31mNameError\u001b[0m                                 Traceback (most recent call last)",
      "\u001b[1;32m~\\AppData\\Local\\Temp/ipykernel_26184/2093175074.py\u001b[0m in \u001b[0;36m<module>\u001b[1;34m\u001b[0m\n\u001b[0;32m      1\u001b[0m \u001b[1;31m# Part C\u001b[0m\u001b[1;33m\u001b[0m\u001b[1;33m\u001b[0m\u001b[0m\n\u001b[0;32m      2\u001b[0m \u001b[1;31m# TODO: Code that solves C\u001b[0m\u001b[1;33m\u001b[0m\u001b[1;33m\u001b[0m\u001b[0m\n\u001b[1;32m----> 3\u001b[1;33m \u001b[0mwav_objv1\u001b[0m \u001b[1;33m=\u001b[0m \u001b[0msa\u001b[0m\u001b[1;33m.\u001b[0m\u001b[0mWaveObject\u001b[0m\u001b[1;33m.\u001b[0m\u001b[0mfrom_wave_file\u001b[0m\u001b[1;33m(\u001b[0m\u001b[1;34m'v1.wav'\u001b[0m\u001b[1;33m)\u001b[0m\u001b[1;33m\u001b[0m\u001b[1;33m\u001b[0m\u001b[0m\n\u001b[0m\u001b[0;32m      4\u001b[0m \u001b[0mwav_objv1\u001b[0m\u001b[1;33m.\u001b[0m\u001b[0mplay\u001b[0m\u001b[1;33m(\u001b[0m\u001b[1;33m)\u001b[0m\u001b[1;33m.\u001b[0m\u001b[0mwait_done\u001b[0m\u001b[1;33m(\u001b[0m\u001b[1;33m)\u001b[0m\u001b[1;33m\u001b[0m\u001b[1;33m\u001b[0m\u001b[0m\n\u001b[0;32m      5\u001b[0m \u001b[1;33m\u001b[0m\u001b[0m\n",
      "\u001b[1;31mNameError\u001b[0m: name 'sa' is not defined"
     ]
    }
   ],
   "source": [
    "# Part C\n",
    "# TODO: Code that solves C\n",
    "wav_objv1 = sa.WaveObject.from_wave_file('v1.wav')\n",
    "wav_objv1.play().wait_done()\n",
    "\n",
    "wav_objv2 = sa.WaveObject.from_wave_file('v2.wav')\n",
    "wav_objv2.play().wait_done()"
   ]
  },
  {
   "cell_type": "markdown",
   "metadata": {},
   "source": [
    "###  Discussion\n",
    "\n",
    "Discuss the differences that the two modifications have on the signal. What would happen if you defined s1 to take value 2 for the [0,0.5] range? If you wanted a smooth but faster decay in amplitude, what signal might you use? \n",
    "\n",
    "The first modification decreases the volume of the signal suddenly once we pass 0.5 seconds, while the second modification slowly decreases the volume linearly until it disappears. If we defined s1 to take value 2 for the [0,0.5] range, the volume would be double the original volume for the first 0.5 seconds, then drop to 0.2 after. For a smooth decay in amplitude, signal v2 would be better as it is linearly decaying."
   ]
  },
  {
   "cell_type": "markdown",
   "metadata": {},
   "source": [
    "## Assignment 3 -- Time Scaling Audio Signals "
   ]
  },
  {
   "cell_type": "code",
   "execution_count": null,
   "metadata": {},
   "outputs": [],
   "source": [
    "# Assignment 3 -- Title of assignment 3\n",
    "def timescale(x, fs, a):\n",
    "    #n, d = decimal.Decimal(a).as_integer_ratio()\n",
    "    [n, d] = (np.double(a)).as_integer_ratio()\n",
    "    y = sig.resample_poly(x,d,n)\n",
    "    t = np.arange(0,len(y),1)*(1.0/fs)\n",
    "    return y,t\n",
    "\n",
    "\n",
    "x1,t_x = timescale(x1,32000,1)\n",
    "\n",
    "\n",
    "\n",
    "# Part A\n",
    "# TODO: Code that solves A\n",
    "w,t_w = timescale(x1,32000,2)\n",
    "# Part B\n",
    "# TODO: Code that solves B\n",
    "v,t_v = timescale(x1,32000,0.5)\n",
    "# Part C\n",
    "# TODO: Code that solves C\n",
    "x1_f = np.flipud(x1)\n",
    "z,t_z = timescale(x1_f,32000,1)\n",
    "\n",
    "# z = np.ascontiguousarray(z)\n",
    "# Part D\n",
    "# TODO: Code that solves D\n",
    "outfileW = 'w.wav'\n",
    "wav.write(outfileW, fs1, w.astype('int16'))\n",
    "wav_objW = sa.WaveObject.from_wave_file('w.wav')\n",
    "\n",
    "\n",
    "outfileV = 'v.wav'\n",
    "wav.write(outfileV, fs1, v.astype('int16'))\n",
    "wav_objV = sa.WaveObject.from_wave_file('v.wav')\n",
    "\n",
    "outfileZ = 'z.wav'\n",
    "wav.write(outfileZ, fs1, z.astype('int16'))\n",
    "wav_objZ = sa.WaveObject.from_wave_file('z.wav')\n",
    "\n",
    "\n",
    "wav_objW.play().wait_done()\n",
    "wav_objV.play().wait_done()\n",
    "wav_objZ.play().wait_done()"
   ]
  },
  {
   "cell_type": "code",
   "execution_count": null,
   "metadata": {
    "scrolled": true
   },
   "outputs": [],
   "source": [
    "# part C\n",
    "fig = plt.figure(1, figsize=(10,5))\n",
    "\n",
    "\n",
    "# plot parameter set 1\n",
    "plt.subplot(411) \n",
    "plt.plot(t_x*1000, x1)\n",
    "plt.title('Train')\n",
    "plt.xlabel('Time(ms)')\n",
    "plt.ylabel('Amplitude')\n",
    "plt.xlim(0,4000)\n",
    "plt.ylim(-37000,37000)\n",
    "# plot parameter set 2\n",
    "plt.subplot(412)\n",
    "plt.plot(t_w*1000, w)\n",
    "plt.title('Train')\n",
    "plt.xlabel('Time(ms)')\n",
    "plt.ylabel('Amplitude')\n",
    "plt.xlim(0,4000)\n",
    "plt.ylim(-37000,37000)\n",
    "# plot parameter set 3\n",
    "plt.subplot(413)\n",
    "plt.plot(t_v*1000, v)\n",
    "plt.title('Train')\n",
    "plt.xlabel('Time(ms)')\n",
    "plt.ylabel('Amplitude')\n",
    "plt.xlim(0,4000)\n",
    "plt.ylim(-37000,37000)\n",
    "# plot parameter set 4\n",
    "plt.subplot(414)\n",
    "plt.plot(t_z*1000, z)\n",
    "plt.title('Train')\n",
    "plt.xlabel('Time(ms)')\n",
    "plt.ylabel('Amplitude')\n",
    "plt.xlim(0,4000)\n",
    "plt.ylim(-37000,37000)\n",
    "plt.subplots_adjust(left=None, bottom=None, right=None, top=None, wspace=None, hspace=2)\n",
    "plt.show()"
   ]
  },
  {
   "cell_type": "code",
   "execution_count": null,
   "metadata": {},
   "outputs": [],
   "source": [
    "# part D\n",
    "wav_obj32.play().wait_done()\n",
    "wav_objW.play().wait_done()\n",
    "wav_objV.play().wait_done()\n",
    "wav_objZ.play().wait_done()"
   ]
  },
  {
   "cell_type": "markdown",
   "metadata": {},
   "source": [
    "###  Discussion\n",
    "\n",
    "Suppose a student runs the figure command before every call to subplot. When you run your script, what changes do you expect to see? How will the plots change?\n",
    "\n",
    "If the sutdent run firgure command before assign a subplot, the number of the figure would still be shown, but there is not data value shown in the figure, which means showing blank figures. \n"
   ]
  },
  {
   "cell_type": "markdown",
   "metadata": {},
   "source": [
    "## Assignment 4 -- Time Shift Operations"
   ]
  },
  {
   "cell_type": "markdown",
   "metadata": {},
   "source": [
    "### Discussion\n",
    "\n",
    "See discussion after the code.\n"
   ]
  },
  {
   "cell_type": "code",
   "execution_count": null,
   "metadata": {},
   "outputs": [],
   "source": [
    "# Part A\n",
    "# TODO: Code that solves A\n",
    "\n",
    "def timeshift(x, fs, t0):\n",
    "    n0 = int(np.abs(t0*fs)) # question1\n",
    "    zero = np.zeros(n0)   #array with n0 zeros in it.\n",
    "    \n",
    "    if (t0 < 0):\n",
    "        y = np.concatenate([zero,x])\n",
    "    elif (t0 >= 0 and n0 < len(x)):\n",
    "        y = x[n0:]\n",
    "        np.append(y,zero)\n",
    "    else:\n",
    "        y = np.zeros(n0)\n",
    "        \n",
    "    t = np.arange(0,len(y),1)*(1.0/fs)\n",
    "    return y,t\n",
    "# Part B\n",
    "# TODO: Code that solves B\n",
    "\n",
    "\n",
    "a,t_a = timeshift(x1,32000,0.5)\n",
    "b,t_b = timeshift(x1,32000,-2)\n",
    "\n",
    "\n",
    "outfileA = 'A.wav'\n",
    "wav.write(outfileA, fs1, a.astype('int16'))\n",
    "wav_objA = sa.WaveObject.from_wave_file('A.wav')\n",
    "\n",
    "\n",
    "outfileB = 'B.wav'\n",
    "wav.write(outfileB, fs1, b.astype('int16'))\n",
    "wav_objB = sa.WaveObject.from_wave_file('B.wav')\n",
    "\n",
    "\n",
    "# Part C\n",
    "# TODO: Code that solves C\n",
    "\n",
    "wav_obj32.play().wait_done()\n",
    "wav_objA.play().wait_done()\n",
    "wav_objB.play().wait_done()\n",
    "\n",
    "\n",
    "\n",
    "fig = plt.figure(2, figsize=(10,5))\n",
    "\n",
    "# plot parameter set 1\n",
    "plt.subplot(311) \n",
    "plt.plot(t_x*1000, x1)\n",
    "plt.title('Train')\n",
    "plt.xlabel('Time(ms)')\n",
    "plt.ylabel('Amplitude')\n",
    "plt.xlim(0,4000)\n",
    "plt.ylim(-37000,37000)\n",
    "\n",
    "# plot parameter set 2\n",
    "plt.subplot(312)\n",
    "plt.plot(t_a*1000, a)\n",
    "plt.title('Train')\n",
    "plt.xlabel('Time(ms)')\n",
    "plt.ylabel('Amplitude')\n",
    "plt.xlim(0,4000)\n",
    "plt.ylim(-37000,37000)\n",
    "\n",
    "# plot parameter set 3\n",
    "plt.subplot(313)\n",
    "plt.plot(t_b*1000, b)\n",
    "plt.title('Train')\n",
    "plt.xlabel('Time(ms)')\n",
    "plt.ylabel('Amplitude')\n",
    "plt.xlim(0,4000)\n",
    "plt.ylim(-37000,37000)\n",
    "plt.subplots_adjust(left=None, bottom=None, right=None, top=None, wspace=None, hspace=2)\n",
    "\n",
    "plt.show()\n",
    "print()"
   ]
  },
  {
   "cell_type": "markdown",
   "metadata": {},
   "source": [
    "### Discussion\n",
    "\n",
    "There is a trivial case that you should ideally test for. If the shift is zero, then the output is the original signal. If the shift is an advance bigger than the original signal, then the output will be zero. Comment on whether your current implementation correctly handles these cases and whether there is a better implementation.\n",
    "\n",
    "For the first case, if the shift is zero, our code will be fine because we will append noth to the original array.\n",
    "\n",
    "In the second case, our code could also handle properly because if the t0 is larger than the time window, we will set every value to 0."
   ]
  }
 ],
 "metadata": {
  "kernelspec": {
   "display_name": "Python 3 (ipykernel)",
   "language": "python",
   "name": "python3"
  },
  "language_info": {
   "codemirror_mode": {
    "name": "ipython",
    "version": 3
   },
   "file_extension": ".py",
   "mimetype": "text/x-python",
   "name": "python",
   "nbconvert_exporter": "python",
   "pygments_lexer": "ipython3",
   "version": "3.9.7"
  }
 },
 "nbformat": 4,
 "nbformat_minor": 2
}
