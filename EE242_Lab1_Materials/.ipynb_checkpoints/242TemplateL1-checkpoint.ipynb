{
 "cells": [
  {
   "cell_type": "markdown",
   "metadata": {
    "id": "Qts0_QFsol7p"
   },
   "source": [
    "## EE 242 Lab 1 – Modifying Signals\n",
    "\n",
    "Author names go here: Include every group member's first and last name!!"
   ]
  },
  {
   "cell_type": "code",
   "execution_count": 3,
   "metadata": {
    "id": "hCPy0RnTol7q"
   },
   "outputs": [],
   "source": [
    "# Importing the required modules: \n",
    "\n",
    "#numpy allows numerical math computation\n",
    "import numpy as np\n",
    "\n",
    "#matplotlib is for graphical plotting\n",
    "import matplotlib\n",
    "import matplotlib.pyplot as plt\n",
    "%matplotlib notebook\n",
    "%matplotlib inline\n",
    "\n",
    "#simpleaudio and wav required for importing, playing, and manipulating .wav files \n",
    "import simpleaudio as sa\n",
    "from scipy.io import wavfile as wav\n",
    "\n",
    "#needed for already provided timescale function\n",
    "import scipy.signal as sig\n",
    "\n",
    "#If you are using google colab:\n",
    "#simpleaudio is unable to emit sound from google colab, so IPython is easy workaround to allow us to hear audio playback, demonstration later. \n",
    "import IPython"
   ]
  },
  {
   "cell_type": "code",
   "execution_count": 4,
   "metadata": {
    "colab": {
     "base_uri": "https://localhost:8080/"
    },
    "id": "ZbNS_vJ8uRZt",
    "outputId": "6850bcee-f649-40ac-eaef-1bca66363dff",
    "scrolled": true
   },
   "outputs": [
    {
     "name": "stdout",
     "output_type": "stream",
     "text": [
      "Requirement already satisfied: simpleaudio in /opt/anaconda3/lib/python3.9/site-packages (1.0.4)\n",
      "Requirement already satisfied: IPython in /opt/anaconda3/lib/python3.9/site-packages (7.29.0)\n",
      "Requirement already satisfied: pexpect>4.3 in /opt/anaconda3/lib/python3.9/site-packages (from IPython) (4.8.0)\n",
      "Requirement already satisfied: jedi>=0.16 in /opt/anaconda3/lib/python3.9/site-packages (from IPython) (0.18.0)\n",
      "Requirement already satisfied: pickleshare in /opt/anaconda3/lib/python3.9/site-packages (from IPython) (0.7.5)\n",
      "Requirement already satisfied: prompt-toolkit!=3.0.0,!=3.0.1,<3.1.0,>=2.0.0 in /opt/anaconda3/lib/python3.9/site-packages (from IPython) (3.0.20)\n",
      "Requirement already satisfied: decorator in /opt/anaconda3/lib/python3.9/site-packages (from IPython) (5.1.0)\n",
      "Requirement already satisfied: traitlets>=4.2 in /opt/anaconda3/lib/python3.9/site-packages (from IPython) (5.1.0)\n",
      "Requirement already satisfied: matplotlib-inline in /opt/anaconda3/lib/python3.9/site-packages (from IPython) (0.1.2)\n",
      "Requirement already satisfied: backcall in /opt/anaconda3/lib/python3.9/site-packages (from IPython) (0.2.0)\n",
      "Requirement already satisfied: setuptools>=18.5 in /opt/anaconda3/lib/python3.9/site-packages (from IPython) (58.0.4)\n",
      "Requirement already satisfied: appnope in /opt/anaconda3/lib/python3.9/site-packages (from IPython) (0.1.2)\n",
      "Requirement already satisfied: pygments in /opt/anaconda3/lib/python3.9/site-packages (from IPython) (2.10.0)\n",
      "Requirement already satisfied: parso<0.9.0,>=0.8.0 in /opt/anaconda3/lib/python3.9/site-packages (from jedi>=0.16->IPython) (0.8.2)\n",
      "Requirement already satisfied: ptyprocess>=0.5 in /opt/anaconda3/lib/python3.9/site-packages (from pexpect>4.3->IPython) (0.7.0)\n",
      "Requirement already satisfied: wcwidth in /opt/anaconda3/lib/python3.9/site-packages (from prompt-toolkit!=3.0.0,!=3.0.1,<3.1.0,>=2.0.0->IPython) (0.2.5)\n",
      "Requirement already satisfied: matplotlib in /opt/anaconda3/lib/python3.9/site-packages (3.4.3)\n",
      "Requirement already satisfied: cycler>=0.10 in /opt/anaconda3/lib/python3.9/site-packages (from matplotlib) (0.10.0)\n",
      "Requirement already satisfied: pillow>=6.2.0 in /opt/anaconda3/lib/python3.9/site-packages (from matplotlib) (8.4.0)\n",
      "Requirement already satisfied: kiwisolver>=1.0.1 in /opt/anaconda3/lib/python3.9/site-packages (from matplotlib) (1.3.1)\n",
      "Requirement already satisfied: numpy>=1.16 in /opt/anaconda3/lib/python3.9/site-packages (from matplotlib) (1.20.3)\n",
      "Requirement already satisfied: pyparsing>=2.2.1 in /opt/anaconda3/lib/python3.9/site-packages (from matplotlib) (3.0.4)\n",
      "Requirement already satisfied: python-dateutil>=2.7 in /opt/anaconda3/lib/python3.9/site-packages (from matplotlib) (2.8.2)\n",
      "Requirement already satisfied: six in /opt/anaconda3/lib/python3.9/site-packages (from cycler>=0.10->matplotlib) (1.16.0)\n",
      "Requirement already satisfied: numpy in /opt/anaconda3/lib/python3.9/site-packages (1.20.3)\n",
      "Requirement already satisfied: scipy in /opt/anaconda3/lib/python3.9/site-packages (1.7.1)\n",
      "Requirement already satisfied: numpy<1.23.0,>=1.16.5 in /opt/anaconda3/lib/python3.9/site-packages (from scipy) (1.20.3)\n"
     ]
    }
   ],
   "source": [
    "#If using google colab: \n",
    "#if you still need to install any of these packages, run this cell: \n",
    "!pip install simpleaudio\n",
    "!pip install IPython\n",
    "!pip install matplotlib\n",
    "!pip install numpy \n",
    "!pip install scipy"
   ]
  },
  {
   "cell_type": "code",
   "execution_count": 5,
   "metadata": {
    "id": "Ulc13hZ5rNnE"
   },
   "outputs": [
    {
     "ename": "ModuleNotFoundError",
     "evalue": "No module named 'google'",
     "output_type": "error",
     "traceback": [
      "\u001b[0;31m---------------------------------------------------------------------------\u001b[0m",
      "\u001b[0;31mModuleNotFoundError\u001b[0m                       Traceback (most recent call last)",
      "\u001b[0;32m/var/folders/75/r14przcd26jcdp_2wyft5yph0000gn/T/ipykernel_3774/398570410.py\u001b[0m in \u001b[0;36m<module>\u001b[0;34m\u001b[0m\n\u001b[1;32m      2\u001b[0m \u001b[0;31m#To import lab-relevant .wav or .jpeg files directly from your local computer to cloud:\u001b[0m\u001b[0;34m\u001b[0m\u001b[0;34m\u001b[0m\u001b[0m\n\u001b[1;32m      3\u001b[0m \u001b[0;31m#run this cell and select any/all desired files from dropdown menu that will appear after running\u001b[0m\u001b[0;34m\u001b[0m\u001b[0;34m\u001b[0m\u001b[0m\n\u001b[0;32m----> 4\u001b[0;31m \u001b[0;32mfrom\u001b[0m \u001b[0mgoogle\u001b[0m\u001b[0;34m.\u001b[0m\u001b[0mcolab\u001b[0m \u001b[0;32mimport\u001b[0m \u001b[0mfiles\u001b[0m\u001b[0;34m\u001b[0m\u001b[0;34m\u001b[0m\u001b[0m\n\u001b[0m\u001b[1;32m      5\u001b[0m \u001b[0muploaded\u001b[0m \u001b[0;34m=\u001b[0m \u001b[0mfiles\u001b[0m\u001b[0;34m.\u001b[0m\u001b[0mupload\u001b[0m\u001b[0;34m(\u001b[0m\u001b[0;34m)\u001b[0m\u001b[0;34m\u001b[0m\u001b[0;34m\u001b[0m\u001b[0m\n",
      "\u001b[0;31mModuleNotFoundError\u001b[0m: No module named 'google'"
     ]
    }
   ],
   "source": [
    "#If you are using google colab: \n",
    "#To import lab-relevant .wav or .jpeg files directly from your local computer to cloud:\n",
    "#run this cell and select any/all desired files from dropdown menu that will appear after running\n",
    "from google.colab import files\n",
    "uploaded = files.upload()"
   ]
  },
  {
   "cell_type": "markdown",
   "metadata": {
    "id": "Z8_ggq-CxFfs"
   },
   "source": [
    "##Optional scientific computing reminder/brush-up/sanity check cell below: "
   ]
  },
  {
   "cell_type": "code",
   "execution_count": 74,
   "metadata": {
    "colab": {
     "base_uri": "https://localhost:8080/",
     "height": 564
    },
    "id": "80Xlt6lOxC8G",
    "outputId": "879a2aea-e4b6-48e6-d40c-6dba7cb84146"
   },
   "outputs": [
    {
     "name": "stdout",
     "output_type": "stream",
     "text": [
      "x is: [1 2 3 4 5]\n",
      "length of x is 5\n",
      "y is: [2 3 4]\n",
      "z is: [1 2 3 4 5 2 3 4]\n",
      "w is: [ 1  4  9 16 25]\n",
      "x+x is: [ 2  4  6  8 10]\n",
      "x-x is: [0 0 0 0 0]\n",
      "3x is: [ 3  6  9 12 15]\n",
      "k= 0 , x[k]= 1\n",
      "k= 1 , x[k]= 2\n",
      "k= 2 , x[k]= 3\n",
      "k= 3 , x[k]= 4\n",
      "k= 4 , x[k]= 5\n"
     ]
    },
    {
     "data": {
      "text/html": [
       "\n",
       "                <audio controls=\"controls\" >\n",
       "                    <source src=\"data:audio/x-wav;base64,UklGRkZWAABXQVZFZm10IBAAAAABAAEAESsAACJWAAACABAAZGF0YSJWAAAAANgEYwlYDXcQjxJ9EzITtREcD5ELTAeTArH99Pin9BDxaO7b7H/sXe1k73byYfbm+rz/lgQnCSYNUhB5EngTPxPREUcPxwuLB9YC9f0z+d/0PPGG7ujsfOxJ7UHvRfIm9qT6eP9TBOsI8wwsEGISchNKE+0RcQ/+C8oHGgM5/nT5F/Vq8aXu9+x67DbtHu8V8uv1Yvoz/xEErgjADAUQSxJrE1QTCBKaDzMMCQheA33+tPlQ9Zfxxe4H7XnsI+387uXxsPUh+u/+zgNwCIsM3g8yEmMTXRMhEsMPaAxHCKEDwv71+Yr1xvHm7hjteewS7dvutvF39eD5q/6KAzIIVwy2DxkSWhNmEzoS6w+dDIUI5AMG/zb6xPX18QfvKe157ALtu+6I8T31n/ln/kcD9AchDI0P/xFRE20TUxISENEMwggnBEr/ePr+9SXyKe887Xvs8uyb7lrxBPVe+SL+BAO1B+wLYw/kEUYTdBNqEjkQBA3/CGoEj/+6+jn2VfJN70/tfezk7HzuLvHM9B753v3AAnYHtQs4D8gROxN5E4ASXxA3DTsJrATT//z6dfaH8nDvY+2B7NbsX+4B8ZT03vib/XwCNwd+Cw0PqxEuE34TlhKDEGkNdwnuBBYAPvux9rjyle957YXsyexC7tbwXfSf+Ff9OAL3BkcL4Q6OESETghOqEqgQmg2zCTAFWwCA++326/K674/tiuy+7CXuq/Am9GD4E/30AbcGDgu1Dm8RExOFE74SyxDLDe4JcgWfAMP7Kvce8+Hvpu2R7LPsCu6B8PDzIfjP/LABdwbWCocOUBEEE4YT0RLtEPsNKQq0BeMABvxn91LzCPC97Zjsqezw7Vjwu/Pi94z8bAE2Bp0KWQ4wEfMShxPiEg8RKw5jCvUFKAFJ/KT3hvMv8NbtoOyg7NbtL/CG86T3SfwoAfUFYworDg8R4hKHE/MSMBFZDp0KNgZsAYz84ve781jw8O2p7Jjsve0I8FLzZ/cG/OMAtAUpCvsN7RDREoYTBBNQEYcO1gp3BrABz/wh+PDzgfAK7rPskeym7eHvHvMq98P7nwByBe4Jyw3LEL4ShRMTE28RtQ4OC7cG9AET/WD4JvSr8CXuvuyK7I/tuu/r8u32gPtbADAFswmaDagQqhKCEyETjhHhDkcL9wY4Alf9n/hd9NbwQu7J7IXsee2V77jysfY++xYA7gR3CWkNgxCWEn4TLhOrEQ0Pfgs3B3wCm/3e+JT0AfFf7tbsgexj7XDvh/J19vz60/+sBDsJNw1fEIASeRM7E8gROA+1C3YHwALe/R75zPQu8Xzu5Ox97E/tTe9V8jn2uvqP/2oE/wgEDTkQahJ0E0YT5BFjD+wLtQcEAyL+XvkE9Vrxm+7y7HvsPO0p7yXy/vV4+kr/JwTCCNEMEhBTEm0TURP/EY0PIQz0B0cDZ/6f+T31iPG77gLteewp7Qfv9fHE9Tb6Bv/kA4UInQzrDzoSZhNaExkStg9XDDIIigOr/uD5d/W28dvuEu157Bjt5u7G8Yr19fnC/qEDRwhoDMMPIRJdE2MTMhLeD4sMcAjOA+/+Ifqw9eXx/O4j7XnsB+3F7pfxUPW0+X3+XgMJCDMMmg8IElQTaxNLEgUQwAyuCBEEM/9i+uv1FfIe7zbteuz37KXuavEX9XT5Of4aA8oH/gtxD+0RShNyE2ISLBDzDOsIUwR4/6T6JvZF8kHvSe187Ojshu488d/0M/n1/dYCiwfHC0cP0RE/E3gTeRJSECYNJwmWBLz/5vph9nbyZO9d7X/s2+xo7hDxp/T0+LH9kwJMB5ELHA+1ETITfROPEncQWA1jCdgEAAAo+532qPKJ73Htg+zO7Evu5PBv9LT4bf1PAgwHWQvwDpgRJROBE6MSnBCKDZ8JGgVEAGr72fba8q7vh+2I7MHsL+658Dn0dfgq/QsCzQYhC8QOehEYE4QTtxK/ELsN2glcBYgArfsV9w3z1O+e7Y7stuwT7o/wAvQ2+Ob8xwGMBukKlg5bEQkThhPKEuIQ6w0VCp4FzQDv+1L3QPP777Xtleys7PjtZvDN8/f3ovyDAUwGsAppDjsR+RKHE90SBBEbDlAK3wURATL8kPd18yLwzu2d7KPs3+098Jjzufdf/D4BCwZ2CjoOGhHoEocT7hIlEUoOiQogBlUBdvzO96nzSvDn7absmuzG7RXwY/N79xz8+gDKBTwKCw75ENcShxP+EkUReA7DCmEGmQG5/Az43/Nz8AHur+yT7K3t7u8v8z732fu2AIgFAgrbDdcQxBKFEw4TZRGmDvwKogbeAfz8S/gU9J3wHO667Izslu3H7/zyAfeW+3EARgXHCasNsxCxEoMTHBOEEdIONAviBiICQP2K+Ev0yPA47sXsh+yA7aHvyfLF9lT7LQAEBYsJeQ2QEJ0SfxMqE6ER/w5sCyIHZQKE/cn4gvTz8FXu0uyC7Grtfe+X8on2Evvq/8IETwlIDWsQhxJ7EzcTvhEqD6MLYQepAsj9Cfm59B/xcu7f7H7sVu1Y72byTfbQ+qX/gAQTCRUNRhBxEnYTQhPbEVUP2gugB+0CDP5J+fL0S/GR7u3se+xC7TXvNfIS9o76Yf89BNYI4gwfEFoSbxNNE/YRfw8QDN8HMQNQ/on5KvV58bDu/Ox67C/tE+8F8tf1TPod//oDmQiuDPgPQxJoE1cTEBKoD0UMHgh0A5T+yvlj9afx0O4N7XnsHu3x7tXxnfUL+tj+twNcCHoM0Q8qEmATYBMqEtEPegxcCLcD2P4L+p311fHx7h7teewN7dDup/Fj9cr5lP50Ax4IRQyoDxASVxNoE0MS+A+uDJkI+gMd/0z61/UF8hPvL+167PzssO558Sr1iflQ/jED3wcQDH8P9hFNE28TWhIfEOIM1gg9BGH/jvoS9jXyNe9C7Xvs7eyR7kvx8vRJ+Qz+7QKgB9oLVQ/bEUITdhNxEkYQFQ0TCYAEpf/Q+k32ZvJY71btfuzf7HLuH/G59An5yP2pAmEHowsqD74RNxN7E4cSaxBIDU8JwgTq/xL7ifaX8n3vau2C7NLsVe7z8IL0yfiE/WUCIgdsC/8OoREqE38TnRKQEHkNiwkEBS0AVPvF9snyoe+A7Yfsxew47sjwS/SK+ED9IgLiBjQL0g6EERwTgxOxErMQqw3HCUYFcQCW+wH3/PLH75btjOy67BzunfAU9Ev4/PzeAaIG/AqmDmURDhOFE8QS1xDbDQIKiAW2ANn7Pvcv8+7vre2T7K/sAe5z8N/zDPi5/JkBYQbDCngORRH+EocT1xL5EAsOPArKBfoAHPx792PzFfDG7Zrspuzn7UrwqfPO93b8VQEgBokKSg4lEe4ShxPoEhoROg52CgsGPgFf/Ln3mPM98N/to+yd7M7tIvB185D3MvwRAd8FUAobDgQR3RKHE/kSOxFpDrAKTAaDAaL89/fN82bw+O2s7JXste3770DzUvfv+80AngUVCusN4hDKEoYTCRNbEZYO6QqMBscB5vw2+AL0j/AT7rbsjuye7dTvDfMV9637iABcBdoJuw2/ELcShBMYE3oRxA4hC80GCwIq/XX4OfS58C/uweyI7Iftru/a8tn2avtEABoFnwmKDZwQoxKBEyUTmBHwDlkLDAdPAm39tPhv9OTwS+7O7IPsce2J76jynfYo+wAA2ARjCVgNdxCPEn0TMhO1ERwPkQtMB5MCsf30+Kf0EPFo7tvsf+xd7WTvdvJh9ub6vP+WBCcJJg1SEHkSeBM/E9ERRw/HC4sH1gL1/TP53/Q88Ybu6Ox87EntQe9F8ib2pPp4/1ME6wjzDCwQYhJyE0oT7RFxD/4LygcaAzn+dPkX9Wrxpe737HrsNu0e7xXy6/Vi+jP/EQSuCMAMBRBLEmsTVBMIEpoPMwwJCF4Dff60+VD1l/HF7gfteewj7fzu5fGw9SH67/7OA3AIiwzeDzISYxNdEyESww9oDEcIoQPC/vX5ivXG8ebuGO157BLt2+628Xf14Pmr/ooDMghXDLYPGRJaE2YTOhLrD50MhQjkAwb/NvrE9fXxB+8p7XnsAu277ojxPfWf+Wf+RwP0ByEMjQ//EVETbRNTEhIQ0QzCCCcESv94+v71JfIp7zzte+zy7JvuWvEE9V75Iv4EA7UH7AtjD+QRRhN0E2oSORAEDf8IagSP/7r6OfZV8k3vT+197OTsfO4u8cz0Hvne/cACdge1CzgPyBE7E3kTgBJfEDcNOwmsBNP//Pp19ofycO9j7YHs1uxf7gHxlPTe+Jv9fAI3B34LDQ+rES4TfhOWEoMQaQ13Ce4EFgA++7H2uPKV73nthezJ7ELu1vBd9J/4V/04AvcGRwvhDo4RIROCE6oSqBCaDbMJMAVbAID77fbr8rrvj+2K7L7sJe6r8Cb0YPgT/fQBtwYOC7UObxETE4UTvhLLEMsN7glyBZ8Aw/sq9x7z4e+m7ZHss+wK7oHw8PMh+M/8sAF3BtYKhw5QEQQThhPREu0Q+w0pCrQF4wAG/Gf3UvMI8L3tmOyp7PDtWPC78+L3jPxsATYGnQpZDjAR8xKHE+ISDxErDmMK9QUoAUn8pPeG8y/w1u2g7KDs1u0v8IbzpPdJ/CgB9QVjCisODxHiEocT8xIwEVkOnQo2BmwBjPzi97vzWPDw7ansmOy97QjwUvNn9wb84wC0BSkK+w3tENEShhMEE1ARhw7WCncGsAHP/CH48POB8Arus+yR7Kbt4e8e8yr3w/ufAHIF7gnLDcsQvhKFExMTbxG1Dg4Ltwb0ARP9YPgm9KvwJe6+7Irsj+267+vy7faA+1sAMAWzCZoNqBCqEoITIROOEeEORwv3BjgCV/2f+F301vBC7snshex57ZXvuPKx9j77FgDuBHcJaQ2DEJYSfhMuE6sRDQ9+CzcHfAKb/d74lPQB8V/u1uyB7GPtcO+H8nX2/PrT/6wEOwk3DV8QgBJ5EzsTyBE4D7ULdgfAAt79HvnM9C7xfO7k7H3sT+1N71XyOfa6+o//agT/CAQNORBqEnQTRhPkEWMP7Au1BwQDIv5e+QT1WvGb7vLse+w87SnvJfL+9Xj6Sv8nBMII0QwSEFMSbRNRE/8RjQ8hDPQHRwNn/p/5PfWI8bvuAu157CntB+/18cT1NvoG/+QDhQidDOsPOhJmE1oTGRK2D1cMMgiKA6v+4Pl39bbx2+4S7XnsGO3m7sbxivX1+cL+oQNHCGgMww8hEl0TYxMyEt4PiwxwCM4D7/4h+rD15fH87iPteewH7cXul/FQ9bT5ff5eAwkIMwyaDwgSVBNrE0sSBRDADK4IEQQz/2L66/UV8h7vNu167Pfspe5q8Rf1dPk5/hoDygf+C3EP7RFKE3ITYhIsEPMM6whTBHj/pPom9kXyQe9J7Xzs6OyG7jzx3/Qz+fX91gKLB8cLRw/RET8TeBN5ElIQJg0nCZYEvP/m+mH2dvJk713tf+zb7GjuEPGn9PT4sf2TAkwHkQscD7URMhN9E48SdxBYDWMJ2AQAACj7nfao8onvce2D7M7sS+7k8G/0tPht/U8CDAdZC/AOmBElE4EToxKcEIoNnwkaBUQAavvZ9tryru+H7Yjswewv7rnwOfR1+Cr9CwLNBiELxA56ERgThBO3Er8Quw3aCVwFiACt+xX3DfPU757tjuy27BPuj/AC9Db45vzHAYwG6QqWDlsRCROGE8oS4hDrDRUKngXNAO/7UvdA8/vvte2V7Kzs+O1m8M3z9/ei/IMBTAawCmkOOxH5EocT3RIEERsOUArfBREBMvyQ93XzIvDO7Z3so+zf7T3wmPO591/8PgELBnYKOg4aEegShxPuEiURSg6JCiAGVQF2/M73qfNK8Oftpuya7MbtFfBj83v3HPz6AMoFPAoLDvkQ1xKHE/4SRRF4DsMKYQaZAbn8DPjf83PwAe6v7JPsre3u7y/zPvfZ+7YAiAUCCtsN1xDEEoUTDhNlEaYO/AqiBt4B/PxL+BT0nfAc7rrsjOyW7cfv/PIB95b7cQBGBccJqw2zELESgxMcE4QR0g40C+IGIgJA/Yr4S/TI8DjuxeyH7IDtoe/J8sX2VPstAAQFiwl5DZAQnRJ/EyoToRH/DmwLIgdlAoT9yfiC9PPwVe7S7ILsau1975fyifYS++r/wgRPCUgNaxCHEnsTNxO+ESoPowthB6kCyP0J+bn0H/Fy7t/sfuxW7VjvZvJN9tD6pf+ABBMJFQ1GEHESdhNCE9sRVQ/aC6AH7QIM/kn58vRL8ZHu7ex77ELtNe818hL2jvph/z0E1gjiDB8QWhJvE00T9hF/DxAM3wcxA1D+ifkq9XnxsO787HrsL+0T7wXy1/VM+h3/+gOZCK4M+A9DEmgTVxMQEqgPRQweCHQDlP7K+WP1p/HQ7g3teewe7fHu1fGd9Qv62P63A1wIegzRDyoSYBNgEyoS0Q96DFwItwPY/gv6nfXV8fHuHu157A3t0O6n8WP1yvmU/nQDHghFDKgPEBJXE2gTQxL4D64MmQj6Ax3/TPrX9QXyE+8v7Xrs/Oyw7nnxKvWJ+VD+MQPfBxAMfw/2EU0TbxNaEh8Q4gzWCD0EYf+O+hL2NfI170Lte+zt7JHuS/Hy9En5DP7tAqAH2gtVD9sRQhN2E3ESRhAVDRMJgASl/9D6TfZm8ljvVu1+7N/scu4f8bn0CfnI/akCYQejCyoPvhE3E3sThxJrEEgNTwnCBOr/EvuJ9pfyfe9q7YLs0uxV7vPwgvTJ+IT9ZQIiB2wL/w6hESoTfxOdEpAQeQ2LCQQFLQBU+8X2yfKh74Dth+zF7DjuyPBL9Ir4QP0iAuIGNAvSDoQRHBODE7ESsxCrDccJRgVxAJb7Aff88sfvlu2M7LrsHO6d8BT0S/j8/N4Bogb8CqYOZREOE4UTxBLXENsNAgqIBbYA2fs+9y/z7u+t7ZPsr+wB7nPw3/MM+Ln8mQFhBsMKeA5FEf4ShxPXEvkQCw48CsoF+gAc/Hv3Y/MV8Mbtmuym7OftSvCp8873dvxVASAGiQpKDiUR7hKHE+gSGhE6DnYKCwY+AV/8ufeY8z3w3+2j7J3szu0i8HXzkPcy/BEB3wVQChsOBBHdEocT+RI7EWkOsApMBoMBovz3983zZvD47azsley17fvvQPNS9+/7zQCeBRUK6w3iEMoShhMJE1sRlg7pCowGxwHm/Db4AvSP8BPutuyO7J7t1O8N8xX3rfuIAFwF2gm7Db8QtxKEExgTehHEDiELzQYLAir9dfg59LnwL+7B7Ijsh+2u79ry2fZq+0QAGgWfCYoNnBCjEoETJROYEfAOWQsMB08Cbf20+G/05PBL7s7sg+xx7YnvqPKd9ij7AADYBGMJWA13EI8SfRMyE7URHA+RC0wHkwKx/fT4p/QQ8Wju2+x/7F3tZO928mH25vq8/5YEJwkmDVIQeRJ4Ez8T0RFHD8cLiwfWAvX9M/nf9Dzxhu7o7HzsSe1B70XyJvak+nj/UwTrCPMMLBBiEnITShPtEXEP/gvKBxoDOf50+Rf1avGl7vfseuw27R7vFfLr9WL6M/8RBK4IwAwFEEsSaxNUEwgSmg8zDAkIXgN9/rT5UPWX8cXuB+157CPt/O7l8bD1Ifrv/s4DcAiLDN4PMhJjE10TIRLDD2gMRwihA8L+9fmK9cbx5u4Y7XnsEu3b7rbxd/Xg+av+igMyCFcMtg8ZEloTZhM6EusPnQyFCOQDBv82+sT19fEH7ynteewC7bvuiPE99Z/5Z/5HA/QHIQyND/8RURNtE1MSEhDRDMIIJwRK/3j6/vUl8invPO177PLsm+5a8QT1Xvki/gQDtQfsC2MP5BFGE3QTahI5EAQN/whqBI//uvo59lXyTe9P7X3s5Ox87i7xzPQe+d79wAJ2B7ULOA/IETsTeROAEl8QNw07CawE0//8+nX2h/Jw72PtgezW7F/uAfGU9N74m/18AjcHfgsND6sRLhN+E5YSgxBpDXcJ7gQWAD77sfa48pXvee2F7MnsQu7W8F30n/hX/TgC9wZHC+EOjhEhE4ITqhKoEJoNswkwBVsAgPvt9uvyuu+P7Yrsvuwl7qvwJvRg+BP99AG3Bg4LtQ5vERMThRO+EssQyw3uCXIFnwDD+yr3HvPh76btkeyz7ArugfDw8yH4z/ywAXcG1gqHDlARBBOGE9ES7RD7DSkKtAXjAAb8Z/dS8wjwve2Y7Kns8O1Y8Lvz4veM/GwBNgadClkOMBHzEocT4hIPESsOYwr1BSgBSfyk94bzL/DW7aDsoOzW7S/whvOk90n8KAH1BWMKKw4PEeIShxPzEjARWQ6dCjYGbAGM/OL3u/NY8PDtqeyY7L3tCPBS82f3BvzjALQFKQr7De0Q0RKGEwQTUBGHDtYKdwawAc/8Ifjw84HwCu6z7JHspu3h7x7zKvfD+58AcgXuCcsNyxC+EoUTExNvEbUODgu3BvQBE/1g+Cb0q/Al7r7siuyP7brv6/Lt9oD7WwAwBbMJmg2oEKoSghMhE44R4Q5HC/cGOAJX/Z/4XfTW8ELuyeyF7Hntle+48rH2PvsWAO4EdwlpDYMQlhJ+Ey4TqxEND34LNwd8Apv93viU9AHxX+7W7IHsY+1w74fydfb8+tP/rAQ7CTcNXxCAEnkTOxPIETgPtQt2B8AC3v0e+cz0LvF87uTsfexP7U3vVfI59rr6j/9qBP8IBA05EGoSdBNGE+QRYw/sC7UHBAMi/l75BPVa8Zvu8ux77DztKe8l8v71ePpK/ycEwgjRDBIQUxJtE1ET/xGNDyEM9AdHA2f+n/k99Yjxu+4C7XnsKe0H7/XxxPU2+gb/5AOFCJ0M6w86EmYTWhMZErYPVwwyCIoDq/7g+Xf1tvHb7hLteewY7ebuxvGK9fX5wv6hA0cIaAzDDyESXRNjEzIS3g+LDHAIzgPv/iH6sPXl8fzuI+157Aftxe6X8VD1tPl9/l4DCQgzDJoPCBJUE2sTSxIFEMAMrggRBDP/Yvrr9RXyHu827Xrs9+yl7mrxF/V0+Tn+GgPKB/4LcQ/tEUoTchNiEiwQ8wzrCFMEeP+k+ib2RfJB70ntfOzo7IbuPPHf9DP59f3WAosHxwtHD9ERPxN4E3kSUhAmDScJlgS8/+b6YfZ28mTvXe1/7NvsaO4Q8af09Pix/ZMCTAeRCxwPtREyE30TjxJ3EFgNYwnYBAAAKPud9qjyie9x7YPszuxL7uTwb/S0+G39TwIMB1kL8A6YESUTgROjEpwQig2fCRoFRABq+9n22vKu74ftiOzB7C/uufA59HX4Kv0LAs0GIQvEDnoRGBOEE7cSvxC7DdoJXAWIAK37FfcN89Tvnu2O7LbsE+6P8AL0Nvjm/McBjAbpCpYOWxEJE4YTyhLiEOsNFQqeBc0A7/tS90Dz+++17ZXsrOz47WbwzfP396L8gwFMBrAKaQ47EfkShxPdEgQRGw5QCt8FEQEy/JD3dfMi8M7tneyj7N/tPfCY87n3X/w+AQsGdgo6DhoR6BKHE+4SJRFKDokKIAZVAXb8zvep80rw5+2m7Jrsxu0V8GPze/cc/PoAygU8CgsO+RDXEocT/hJFEXgOwwphBpkBufwM+N/zc/AB7q/sk+yt7e7vL/M+99n7tgCIBQIK2w3XEMQShRMOE2URpg78CqIG3gH8/Ev4FPSd8BzuuuyM7Jbtx+/88gH3lvtxAEYFxwmrDbMQsRKDExwThBHSDjQL4gYiAkD9ivhL9MjwOO7F7IfsgO2h78nyxfZU+y0ABAWLCXkNkBCdEn8TKhOhEf8ObAsiB2UChP3J+IL08/BV7tLsguxq7X3vl/KJ9hL76v/CBE8JSA1rEIcSexM3E74RKg+jC2EHqQLI/Qn5ufQf8XLu3+x+7FbtWO9m8k320Pql/4AEEwkVDUYQcRJ2E0IT2xFVD9oLoAftAgz+Sfny9Evxke7t7HvsQu017zXyEvaO+mH/PQTWCOIMHxBaEm8TTRP2EX8PEAzfBzEDUP6J+Sr1efGw7vzseuwv7RPvBfLX9Uz6Hf/6A5kIrgz4D0MSaBNXExASqA9FDB4IdAOU/sr5Y/Wn8dDuDe157B7t8e7V8Z31C/rY/rcDXAh6DNEPKhJgE2ATKhLRD3oMXAi3A9j+C/qd9dXx8e4e7XnsDe3Q7qfxY/XK+ZT+dAMeCEUMqA8QElcTaBNDEvgPrgyZCPoDHf9M+tf1BfIT7y/teuz87LDuefEq9Yn5UP4xA98HEAx/D/YRTRNvE1oSHxDiDNYIPQRh/476EvY18jXvQu177O3ske5L8fL0SfkM/u0CoAfaC1UP2xFCE3YTcRJGEBUNEwmABKX/0PpN9mbyWO9W7X7s3+xy7h/xufQJ+cj9qQJhB6MLKg++ETcTexOHEmsQSA1PCcIE6v8S+4n2l/J972rtguzS7FXu8/CC9Mn4hP1lAiIHbAv/DqERKhN/E50SkBB5DYsJBAUtAFT7xfbJ8qHvgO2H7MXsOO7I8Ev0ivhA/SIC4gY0C9IOhBEcE4MTsRKzEKsNxwlGBXEAlvsB9/zyx++W7Yzsuuwc7p3wFPRL+Pz83gGiBvwKpg5lEQ4ThRPEEtcQ2w0CCogFtgDZ+z73L/Pu763tk+yv7AHuc/Df8wz4ufyZAWEGwwp4DkUR/hKHE9cS+RALDjwKygX6ABz8e/dj8xXwxu2a7Kbs5+1K8Knzzvd2/FUBIAaJCkoOJRHuEocT6BIaEToOdgoLBj4BX/y595jzPfDf7aPsnezO7SLwdfOQ9zL8EQHfBVAKGw4EEd0ShxP5EjsRaQ6wCkwGgwGi/Pf3zfNm8PjtrOyV7LXt++9A81L37/vNAJ4FFQrrDeIQyhKGEwkTWxGWDukKjAbHAeb8NvgC9I/wE+627I7snu3U7w3zFfet+4gAXAXaCbsNvxC3EoQTGBN6EcQOIQvNBgsCKv11+Dn0ufAv7sHsiOyH7a7v2vLZ9mr7RAAaBZ8Jig2cEKMSgRMlE5gR8A5ZCwwHTwJt/bT4b/Tk8EvuzuyD7HHtie+o8p32KPsAANgEYwlYDXcQjxJ9EzITtREcD5ELTAeTArH99Pin9BDxaO7b7H/sXe1k73byYfbm+rz/lgQnCSYNUhB5EngTPxPREUcPxwuLB9YC9f0z+d/0PPGG7ujsfOxJ7UHvRfIm9qT6eP9TBOsI8wwsEGISchNKE+0RcQ/+C8oHGgM5/nT5F/Vq8aXu9+x67DbtHu8V8uv1Yvoz/xEErgjADAUQSxJrE1QTCBKaDzMMCQheA33+tPlQ9Zfxxe4H7XnsI+387uXxsPUh+u/+zgNwCIsM3g8yEmMTXRMhEsMPaAxHCKEDwv71+Yr1xvHm7hjteewS7dvutvF39eD5q/6KAzIIVwy2DxkSWhNmEzoS6w+dDIUI5AMG/zb6xPX18QfvKe157ALtu+6I8T31n/ln/kcD9AchDI0P/xFRE20TUxISENEMwggnBEr/ePr+9SXyKe887Xvs8uyb7lrxBPVe+SL+BAO1B+wLYw/kEUYTdBNqEjkQBA3/CGoEj/+6+jn2VfJN70/tfezk7HzuLvHM9B753v3AAnYHtQs4D8gROxN5E4ASXxA3DTsJrATT//z6dfaH8nDvY+2B7NbsX+4B8ZT03vib/XwCNwd+Cw0PqxEuE34TlhKDEGkNdwnuBBYAPvux9rjyle957YXsyexC7tbwXfSf+Ff9OAL3BkcL4Q6OESETghOqEqgQmg2zCTAFWwCA++326/K674/tiuy+7CXuq/Am9GD4E/30AbcGDgu1Dm8RExOFE74SyxDLDe4JcgWfAMP7Kvce8+Hvpu2R7LPsCu6B8PDzIfjP/LABdwbWCocOUBEEE4YT0RLtEPsNKQq0BeMABvxn91LzCPC97Zjsqezw7Vjwu/Pi94z8bAE2Bp0KWQ4wEfMShxPiEg8RKw5jCvUFKAFJ/KT3hvMv8NbtoOyg7NbtL/CG86T3SfwoAfUFYworDg8R4hKHE/MSMBFZDp0KNgZsAYz84ve781jw8O2p7Jjsve0I8FLzZ/cG/OMAtAUpCvsN7RDREoYTBBNQEYcO1gp3BrABz/wh+PDzgfAK7rPskeym7eHvHvMq98P7nwByBe4Jyw3LEL4ShRMTE28RtQ4OC7cG9AET/WD4JvSr8CXuvuyK7I/tuu/r8u32gPtbADAFswmaDagQqhKCEyETjhHhDkcL9wY4Alf9n/hd9NbwQu7J7IXsee2V77jysfY++xYA7gR3CWkNgxCWEn4TLhOrEQ0Pfgs3B3wCm/3e+JT0AfFf7tbsgexj7XDvh/J19vz60/+sBDsJNw1fEIASeRM7E8gROA+1C3YHwALe/R75zPQu8Xzu5Ox97E/tTe9V8jn2uvqP/2oE/wgEDTkQahJ0E0YT5BFjD+wLtQcEAyL+XvkE9Vrxm+7y7HvsPO0p7yXy/vV4+kr/JwTCCNEMEhBTEm0TURP/EY0PIQz0B0cDZ/6f+T31iPG77gLteewp7Qfv9fHE9Tb6Bv/kA4UInQzrDzoSZhNaExkStg9XDDIIigOr/uD5d/W28dvuEu157Bjt5u7G8Yr19fnC/qEDRwhoDMMPIRJdE2MTMhLeD4sMcAjOA+/+Ifqw9eXx/O4j7XnsB+3F7pfxUPW0+X3+XgMJCDMMmg8IElQTaxNLEgUQwAyuCBEEM/9i+uv1FfIe7zbteuz37KXuavEX9XT5Of4aA8oH/gtxD+0RShNyE2ISLBDzDOsIUwR4/6T6JvZF8kHvSe187Ojshu488d/0M/n1/dYCiwfHC0cP0RE/E3gTeRJSECYNJwmWBLz/5vph9nbyZO9d7X/s2+xo7hDxp/T0+LH9kwJMB5ELHA+1ETITfROPEncQWA1jCdgEAAAo+532qPKJ73Htg+zO7Evu5PBv9LT4bf1PAgwHWQvwDpgRJROBE6MSnBCKDZ8JGgVEAGr72fba8q7vh+2I7MHsL+658Dn0dfgq/QsCzQYhC8QOehEYE4QTtxK/ELsN2glcBYgArfsV9w3z1O+e7Y7stuwT7o/wAvQ2+Ob8xwGMBukKlg5bEQkThhPKEuIQ6w0VCp4FzQDv+1L3QPP777Xtleys7PjtZvDN8/f3ovyDAUwGsAppDjsR+RKHE90SBBEbDlAK3wURATL8kPd18yLwzu2d7KPs3+098Jjzufdf/D4BCwZ2CjoOGhHoEocT7hIlEUoOiQogBlUBdvzO96nzSvDn7absmuzG7RXwY/N79xz8+gDKBTwKCw75ENcShxP+EkUReA7DCmEGmQG5/Az43/Nz8AHur+yT7K3t7u8v8z732fu2AIgFAgrbDdcQxBKFEw4TZRGmDvwKogbeAfz8S/gU9J3wHO667Izslu3H7/zyAfeW+3EARgXHCasNsxCxEoMTHBOEEdIONAviBiICQP2K+Ev0yPA47sXsh+yA7aHvyfLF9lT7LQAEBYsJeQ2QEJ0SfxMqE6ER/w5sCyIHZQKE/cn4gvTz8FXu0uyC7Grtfe+X8on2Evvq/8IETwlIDWsQhxJ7EzcTvhEqD6MLYQepAsj9Cfm59B/xcu7f7H7sVu1Y72byTfbQ+qX/gAQTCRUNRhBxEnYTQhPbEVUP2gugB+0CDP5J+fL0S/GR7u3se+xC7TXvNfIS9o76Yf89BNYI4gwfEFoSbxNNE/YRfw8QDN8HMQNQ/on5KvV58bDu/Ox67C/tE+8F8tf1TPod//oDmQiuDPgPQxJoE1cTEBKoD0UMHgh0A5T+yvlj9afx0O4N7XnsHu3x7tXxnfUL+tj+twNcCHoM0Q8qEmATYBMqEtEPegxcCLcD2P4L+p311fHx7h7teewN7dDup/Fj9cr5lP50Ax4IRQyoDxASVxNoE0MS+A+uDJkI+gMd/0z61/UF8hPvL+167PzssO558Sr1iflQ/jED3wcQDH8P9hFNE28TWhIfEOIM1gg9BGH/jvoS9jXyNe9C7Xvs7eyR7kvx8vRJ+Qz+7QKgB9oLVQ/bEUITdhNxEkYQFQ0TCYAEpf/Q+k32ZvJY71btfuzf7HLuH/G59An5yP2pAmEHowsqD74RNxN7E4cSaxBIDU8JwgTq/xL7ifaX8n3vau2C7NLsVe7z8IL0yfiE/WUCIgdsC/8OoREqE38TnRKQEHkNiwkEBS0AVPvF9snyoe+A7Yfsxew47sjwS/SK+ED9IgLiBjQL0g6EERwTgxOxErMQqw3HCUYFcQCW+wH3/PLH75btjOy67BzunfAU9Ev4/PzeAaIG/AqmDmURDhOFE8QS1xDbDQIKiAW2ANn7Pvcv8+7vre2T7K/sAe5z8N/zDPi5/JkBYQbDCngORRH+EocT1xL5EAsOPArKBfoAHPx792PzFfDG7Zrspuzn7UrwqfPO93b8VQEgBokKSg4lEe4ShxPoEhoROg52CgsGPgFf/Ln3mPM98N/to+yd7M7tIvB185D3MvwRAd8FUAobDgQR3RKHE/kSOxFpDrAKTAaDAaL89/fN82bw+O2s7JXste3770DzUvfv+80AngUVCusN4hDKEoYTCRNbEZYO6QqMBscB5vw2+AL0j/AT7rbsjuye7dTvDfMV9637iABcBdoJuw2/ELcShBMYE3oRxA4hC80GCwIq/XX4OfS58C/uweyI7Iftru/a8tn2avtEABoFnwmKDZwQoxKBEyUTmBHwDlkLDAdPAm39tPhv9OTwS+7O7IPsce2J76jynfYo+wAA2ARjCVgNdxCPEn0TMhO1ERwPkQtMB5MCsf30+Kf0EPFo7tvsf+xd7WTvdvJh9ub6vP+WBCcJJg1SEHkSeBM/E9ERRw/HC4sH1gL1/TP53/Q88Ybu6Ox87EntQe9F8ib2pPp4/1ME6wjzDCwQYhJyE0oT7RFxD/4LygcaAzn+dPkX9Wrxpe737HrsNu0e7xXy6/Vi+jP/EQSuCMAMBRBLEmsTVBMIEpoPMwwJCF4Dff60+VD1l/HF7gfteewj7fzu5fGw9SH67/7OA3AIiwzeDzISYxNdEyESww9oDEcIoQPC/vX5ivXG8ebuGO157BLt2+628Xf14Pmr/ooDMghXDLYPGRJaE2YTOhLrD50MhQjkAwb/NvrE9fXxB+8p7XnsAu277ojxPfWf+Wf+RwP0ByEMjQ//EVETbRNTEhIQ0QzCCCcESv94+v71JfIp7zzte+zy7JvuWvEE9V75Iv4EA7UH7AtjD+QRRhN0E2oSORAEDf8IagSP/7r6OfZV8k3vT+197OTsfO4u8cz0Hvne/cACdge1CzgPyBE7E3kTgBJfEDcNOwmsBNP//Pp19ofycO9j7YHs1uxf7gHxlPTe+Jv9fAI3B34LDQ+rES4TfhOWEoMQaQ13Ce4EFgA++7H2uPKV73nthezJ7ELu1vBd9J/4V/04AvcGRwvhDo4RIROCE6oSqBCaDbMJMAVbAID77fbr8rrvj+2K7L7sJe6r8Cb0YPgT/fQBtwYOC7UObxETE4UTvhLLEMsN7glyBZ8Aw/sq9x7z4e+m7ZHss+wK7oHw8PMh+M/8sAF3BtYKhw5QEQQThhPREu0Q+w0pCrQF4wAG/Gf3UvMI8L3tmOyp7PDtWPC78+L3jPxsATYGnQpZDjAR8xKHE+ISDxErDmMK9QUoAUn8pPeG8y/w1u2g7KDs1u0v8IbzpPdJ/CgB9QVjCisODxHiEocT8xIwEVkOnQo2BmwBjPzi97vzWPDw7ansmOy97QjwUvNn9wb84wC0BSkK+w3tENEShhMEE1ARhw7WCncGsAHP/CH48POB8Arus+yR7Kbt4e8e8yr3w/ufAHIF7gnLDcsQvhKFExMTbxG1Dg4Ltwb0ARP9YPgm9KvwJe6+7Irsj+267+vy7faA+1sAMAWzCZoNqBCqEoITIROOEeEORwv3BjgCV/2f+F301vBC7snshex57ZXvuPKx9j77FgDuBHcJaQ2DEJYSfhMuE6sRDQ9+CzcHfAKb/d74lPQB8V/u1uyB7GPtcO+H8nX2/PrT/6wEOwk3DV8QgBJ5EzsTyBE4D7ULdgfAAt79HvnM9C7xfO7k7H3sT+1N71XyOfa6+o//agT/CAQNORBqEnQTRhPkEWMP7Au1BwQDIv5e+QT1WvGb7vLse+w87SnvJfL+9Xj6Sv8nBMII0QwSEFMSbRNRE/8RjQ8hDPQHRwNn/p/5PfWI8bvuAu157CntB+/18cT1NvoG/+QDhQidDOsPOhJmE1oTGRK2D1cMMgiKA6v+4Pl39bbx2+4S7XnsGO3m7sbxivX1+cL+oQNHCGgMww8hEl0TYxMyEt4PiwxwCM4D7/4h+rD15fH87iPteewH7cXul/FQ9bT5ff5eAwkIMwyaDwgSVBNrE0sSBRDADK4IEQQz/2L66/UV8h7vNu167Pfspe5q8Rf1dPk5/hoDygf+C3EP7RFKE3ITYhIsEPMM6whTBHj/pPom9kXyQe9J7Xzs6OyG7jzx3/Qz+fX91gKLB8cLRw/RET8TeBN5ElIQJg0nCZYEvP/m+mH2dvJk713tf+zb7GjuEPGn9PT4sf2TAkwHkQscD7URMhN9E48SdxBYDWMJ2AQAACj7nfao8onvce2D7M7sS+7k8G/0tPht/U8CDAdZC/AOmBElE4EToxKcEIoNnwkaBUQAavvZ9tryru+H7Yjswewv7rnwOfR1+Cr9CwLNBiELxA56ERgThBO3Er8Quw3aCVwFiACt+xX3DfPU757tjuy27BPuj/AC9Db45vzHAYwG6QqWDlsRCROGE8oS4hDrDRUKngXNAO/7UvdA8/vvte2V7Kzs+O1m8M3z9/ei/IMBTAawCmkOOxH5EocT3RIEERsOUArfBREBMvyQ93XzIvDO7Z3so+zf7T3wmPO591/8PgELBnYKOg4aEegShxPuEiURSg6JCiAGVQF2/M73qfNK8Oftpuya7MbtFfBj83v3HPz6AMoFPAoLDvkQ1xKHE/4SRRF4DsMKYQaZAbn8DPjf83PwAe6v7JPsre3u7y/zPvfZ+7YAiAUCCtsN1xDEEoUTDhNlEaYO/AqiBt4B/PxL+BT0nfAc7rrsjOyW7cfv/PIB95b7cQBGBccJqw2zELESgxMcE4QR0g40C+IGIgJA/Yr4S/TI8DjuxeyH7IDtoe/J8sX2VPstAAQFiwl5DZAQnRJ/EyoToRH/DmwLIgdlAoT9yfiC9PPwVe7S7ILsau1975fyifYS++r/wgRPCUgNaxCHEnsTNxO+ESoPowthB6kCyP0J+bn0H/Fy7t/sfuxW7VjvZvJN9tD6pf+ABBMJFQ1GEHESdhNCE9sRVQ/aC6AH7QIM/kn58vRL8ZHu7ex77ELtNe818hL2jvph/z0E1gjiDB8QWhJvE00T9hF/DxAM3wcxA1D+ifkq9XnxsO787HrsL+0T7wXy1/VM+h3/+gOZCK4M+A9DEmgTVxMQEqgPRQweCHQDlP7K+WP1p/HQ7g3teewe7fHu1fGd9Qv62P63A1wIegzRDyoSYBNgEyoS0Q96DFwItwPY/gv6nfXV8fHuHu157A3t0O6n8WP1yvmU/nQDHghFDKgPEBJXE2gTQxL4D64MmQj6Ax3/TPrX9QXyE+8v7Xrs/Oyw7nnxKvWJ+VD+MQPfBxAMfw/2EU0TbxNaEh8Q4gzWCD0EYf+O+hL2NfI170Lte+zt7JHuS/Hy9En5DP7tAqAH2gtVD9sRQhN2E3ESRhAVDRMJgASl/9D6TfZm8ljvVu1+7N/scu4f8bn0CfnI/akCYQejCyoPvhE3E3sThxJrEEgNTwnCBOr/EvuJ9pfyfe9q7YLs0uxV7vPwgvTJ+IT9ZQIiB2wL/w6hESoTfxOdEpAQeQ2LCQQFLQBU+8X2yfKh74Dth+zF7DjuyPBL9Ir4QP0iAuIGNAvSDoQRHBODE7ESsxCrDccJRgVxAJb7Aff88sfvlu2M7LrsHO6d8BT0S/j8/N4Bogb8CqYOZREOE4UTxBLXENsNAgqIBbYA2fs+9y/z7u+t7ZPsr+wB7nPw3/MM+Ln8mQFhBsMKeA5FEf4ShxPXEvkQCw48CsoF+gAc/Hv3Y/MV8Mbtmuym7OftSvCp8873dvxVASAGiQpKDiUR7hKHE+gSGhE6DnYKCwY+AV/8ufeY8z3w3+2j7J3szu0i8HXzkPcy/BEB3wVQChsOBBHdEocT+RI7EWkOsApMBoMBovz3983zZvD47azsley17fvvQPNS9+/7zQCeBRUK6w3iEMoShhMJE1sRlg7pCowGxwHm/Db4AvSP8BPutuyO7J7t1O8N8xX3rfuIAFwF2gm7Db8QtxKEExgTehHEDiELzQYLAir9dfg59LnwL+7B7Ijsh+2u79ry2fZq+0QAGgWfCYoNnBCjEoETJROYEfAOWQsMB08Cbf20+G/05PBL7s7sg+xx7YnvqPKd9ij7AADYBGMJWA13EI8SfRMyE7URHA+RC0wHkwKx/fT4p/QQ8Wju2+x/7F3tZO928mH25vq8/5YEJwkmDVIQeRJ4Ez8T0RFHD8cLiwfWAvX9M/nf9Dzxhu7o7HzsSe1B70XyJvak+nj/UwTrCPMMLBBiEnITShPtEXEP/gvKBxoDOf50+Rf1avGl7vfseuw27R7vFfLr9WL6M/8RBK4IwAwFEEsSaxNUEwgSmg8zDAkIXgN9/rT5UPWX8cXuB+157CPt/O7l8bD1Ifrv/s4DcAiLDN4PMhJjE10TIRLDD2gMRwihA8L+9fmK9cbx5u4Y7XnsEu3b7rbxd/Xg+av+igMyCFcMtg8ZEloTZhM6EusPnQyFCOQDBv82+sT19fEH7ynteewC7bvuiPE99Z/5Z/5HA/QHIQyND/8RURNtE1MSEhDRDMIIJwRK/3j6/vUl8invPO177PLsm+5a8QT1Xvki/gQDtQfsC2MP5BFGE3QTahI5EAQN/whqBI//uvo59lXyTe9P7X3s5Ox87i7xzPQe+d79wAJ2B7ULOA/IETsTeROAEl8QNw07CawE0//8+nX2h/Jw72PtgezW7F/uAfGU9N74m/18AjcHfgsND6sRLhN+E5YSgxBpDXcJ7gQWAD77sfa48pXvee2F7MnsQu7W8F30n/hX/TgC9wZHC+EOjhEhE4ITqhKoEJoNswkwBVsAgPvt9uvyuu+P7Yrsvuwl7qvwJvRg+BP99AG3Bg4LtQ5vERMThRO+EssQyw3uCXIFnwDD+yr3HvPh76btkeyz7ArugfDw8yH4z/ywAXcG1gqHDlARBBOGE9ES7RD7DSkKtAXjAAb8Z/dS8wjwve2Y7Kns8O1Y8Lvz4veM/GwBNgadClkOMBHzEocT4hIPESsOYwr1BSgBSfyk94bzL/DW7aDsoOzW7S/whvOk90n8KAH1BWMKKw4PEeIShxPzEjARWQ6dCjYGbAGM/OL3u/NY8PDtqeyY7L3tCPBS82f3BvzjALQFKQr7De0Q0RKGEwQTUBGHDtYKdwawAc/8Ifjw84HwCu6z7JHspu3h7x7zKvfD+58AcgXuCcsNyxC+EoUTExNvEbUODgu3BvQBE/1g+Cb0q/Al7r7siuyP7brv6/Lt9oD7WwAwBbMJmg2oEKoSghMhE44R4Q5HC/cGOAJX/Z/4XfTW8ELuyeyF7Hntle+48rH2PvsWAO4EdwlpDYMQlhJ+Ey4TqxEND34LNwd8Apv93viU9AHxX+7W7IHsY+1w74fydfb8+tP/rAQ7CTcNXxCAEnkTOxPIETgPtQt2B8AC3v0e+cz0LvF87uTsfexP7U3vVfI59rr6j/9qBP8IBA05EGoSdBNGE+QRYw/sC7UHBAMi/l75BPVa8Zvu8ux77DztKe8l8v71ePpK/ycEwgjRDBIQUxJtE1ET/xGNDyEM9AdHA2f+n/k99Yjxu+4C7XnsKe0H7/XxxPU2+gb/5AOFCJ0M6w86EmYTWhMZErYPVwwyCIoDq/7g+Xf1tvHb7hLteewY7ebuxvGK9fX5wv6hA0cIaAzDDyESXRNjEzIS3g+LDHAIzgPv/iH6sPXl8fzuI+157Aftxe6X8VD1tPl9/l4DCQgzDJoPCBJUE2sTSxIFEMAMrggRBDP/Yvrr9RXyHu827Xrs9+yl7mrxF/V0+Tn+GgPKB/4LcQ/tEUoTchNiEiwQ8wzrCFMEeP+k+ib2RfJB70ntfOzo7IbuPPHf9DP59f3WAosHxwtHD9ERPxN4E3kSUhAmDScJlgS8/+b6YfZ28mTvXe1/7NvsaO4Q8af09Pix/ZMCTAeRCxwPtREyE30TjxJ3EFgNYwnYBAAAKPud9qjyie9x7YPszuxL7uTwb/S0+G39TwIMB1kL8A6YESUTgROjEpwQig2fCRoFRABq+9n22vKu74ftiOzB7C/uufA59HX4Kv0LAs0GIQvEDnoRGBOEE7cSvxC7DdoJXAWIAK37FfcN89Tvnu2O7LbsE+6P8AL0Nvjm/McBjAbpCpYOWxEJE4YTyhLiEOsNFQqeBc0A7/tS90Dz+++17ZXsrOz47WbwzfP396L8gwFMBrAKaQ47EfkShxPdEgQRGw5QCt8FEQEy/JD3dfMi8M7tneyj7N/tPfCY87n3X/w+AQsGdgo6DhoR6BKHE+4SJRFKDokKIAZVAXb8zvep80rw5+2m7Jrsxu0V8GPze/cc/PoAygU8CgsO+RDXEocT/hJFEXgOwwphBpkBufwM+N/zc/AB7q/sk+yt7e7vL/M+99n7tgCIBQIK2w3XEMQShRMOE2URpg78CqIG3gH8/Ev4FPSd8BzuuuyM7Jbtx+/88gH3lvtxAEYFxwmrDbMQsRKDExwThBHSDjQL4gYiAkD9ivhL9MjwOO7F7IfsgO2h78nyxfZU+y0ABAWLCXkNkBCdEn8TKhOhEf8ObAsiB2UChP3J+IL08/BV7tLsguxq7X3vl/KJ9hL76v/CBE8JSA1rEIcSexM3E74RKg+jC2EHqQLI/Qn5ufQf8XLu3+x+7FbtWO9m8k320Pql/4AEEwkVDUYQcRJ2E0IT2xFVD9oLoAftAgz+Sfny9Evxke7t7HvsQu017zXyEvaO+mH/PQTWCOIMHxBaEm8TTRP2EX8PEAzfBzEDUP6J+Sr1efGw7vzseuwv7RPvBfLX9Uz6Hf/6A5kIrgz4D0MSaBNXExASqA9FDB4IdAOU/sr5Y/Wn8dDuDe157B7t8e7V8Z31C/rY/rcDXAh6DNEPKhJgE2ATKhLRD3oMXAi3A9j+C/qd9dXx8e4e7XnsDe3Q7qfxY/XK+ZT+dAMeCEUMqA8QElcTaBNDEvgPrgyZCPoDHf9M+tf1BfIT7y/teuz87LDuefEq9Yn5UP4xA98HEAx/D/YRTRNvE1oSHxDiDNYIPQRh/476EvY18jXvQu177O3ske5L8fL0SfkM/u0CoAfaC1UP2xFCE3YTcRJGEBUNEwmABKX/0PpN9mbyWO9W7X7s3+xy7h/xufQJ+cj9qQJhB6MLKg++ETcTexOHEmsQSA1PCcIE6v8S+4n2l/J972rtguzS7FXu8/CC9Mn4hP1lAiIHbAv/DqERKhN/E50SkBB5DYsJBAUtAFT7xfbJ8qHvgO2H7MXsOO7I8Ev0ivhA/SIC4gY0C9IOhBEcE4MTsRKzEKsNxwlGBXEAlvsB9/zyx++W7Yzsuuwc7p3wFPRL+Pz83gGiBvwKpg5lEQ4ThRPEEtcQ2w0CCogFtgDZ+z73L/Pu763tk+yv7AHuc/Df8wz4ufyZAWEGwwp4DkUR/hKHE9cS+RALDjwKygX6ABz8e/dj8xXwxu2a7Kbs5+1K8Knzzvd2/FUBIAaJCkoOJRHuEocT6BIaEToOdgoLBj4BX/y595jzPfDf7aPsnezO7SLwdfOQ9zL8EQHfBVAKGw4EEd0ShxP5EjsRaQ6wCkwGgwGi/Pf3zfNm8PjtrOyV7LXt++9A81L37/vNAJ4FFQrrDeIQyhKGEwkTWxGWDukKjAbHAeb8NvgC9I/wE+627I7snu3U7w3zFfet+4gAXAXaCbsNvxC3EoQTGBN6EcQOIQvNBgsCKv11+Dn0ufAv7sHsiOyH7a7v2vLZ9mr7RAAaBZ8Jig2cEKMSgRMlE5gR8A5ZCwwHTwJt/bT4b/Tk8EvuzuyD7HHtie+o8p32KPsAANgEYwlYDXcQjxJ9EzITtREcD5ELTAeTArH99Pin9BDxaO7b7H/sXe1k73byYfbm+rz/lgQnCSYNUhB5EngTPxPREUcPxwuLB9YC9f0z+d/0PPGG7ujsfOxJ7UHvRfIm9qT6eP9TBOsI8wwsEGISchNKE+0RcQ/+C8oHGgM5/nT5F/Vq8aXu9+x67DbtHu8V8uv1Yvoz/xEErgjADAUQSxJrE1QTCBKaDzMMCQheA33+tPlQ9Zfxxe4H7XnsI+387uXxsPUh+u/+zgNwCIsM3g8yEmMTXRMhEsMPaAxHCKEDwv71+Yr1xvHm7hjteewS7dvutvF39eD5q/6KAzIIVwy2DxkSWhNmEzoS6w+dDIUI5AMG/zb6xPX18QfvKe157ALtu+6I8T31n/ln/kcD9AchDI0P/xFRE20TUxISENEMwggnBEr/ePr+9SXyKe887Xvs8uyb7lrxBPVe+SL+BAO1B+wLYw/kEUYTdBNqEjkQBA3/CGoEj/+6+jn2VfJN70/tfezk7HzuLvHM9B753v3AAnYHtQs4D8gROxN5E4ASXxA3DTsJrATT//z6dfaH8nDvY+2B7NbsX+4B8ZT03vib/XwCNwd+Cw0PqxEuE34TlhKDEGkNdwnuBBYAPvux9rjyle957YXsyexC7tbwXfSf+Ff9OAL3BkcL4Q6OESETghOqEqgQmg2zCTAFWwCA++326/K674/tiuy+7CXuq/Am9GD4E/30AbcGDgu1Dm8RExOFE74SyxDLDe4JcgWfAMP7Kvce8+Hvpu2R7LPsCu6B8PDzIfjP/LABdwbWCocOUBEEE4YT0RLtEPsNKQq0BeMABvxn91LzCPC97Zjsqezw7Vjwu/Pi94z8bAE2Bp0KWQ4wEfMShxPiEg8RKw5jCvUFKAFJ/KT3hvMv8NbtoOyg7NbtL/CG86T3SfwoAfUFYworDg8R4hKHE/MSMBFZDp0KNgZsAYz84ve781jw8O2p7Jjsve0I8FLzZ/cG/OMAtAUpCvsN7RDREoYTBBNQEYcO1gp3BrABz/wh+PDzgfAK7rPskeym7eHvHvMq98P7nwByBe4Jyw3LEL4ShRMTE28RtQ4OC7cG9AET/WD4JvSr8CXuvuyK7I/tuu/r8u32gPtbADAFswmaDagQqhKCEyETjhHhDkcL9wY4Alf9n/hd9NbwQu7J7IXsee2V77jysfY++xYA7gR3CWkNgxCWEn4TLhOrEQ0Pfgs3B3wCm/3e+JT0AfFf7tbsgexj7XDvh/J19vz60/+sBDsJNw1fEIASeRM7E8gROA+1C3YHwALe/R75zPQu8Xzu5Ox97E/tTe9V8jn2uvqP/2oE/wgEDTkQahJ0E0YT5BFjD+wLtQcEAyL+XvkE9Vrxm+7y7HvsPO0p7yXy/vV4+kr/JwTCCNEMEhBTEm0TURP/EY0PIQz0B0cDZ/6f+T31iPG77gLteewp7Qfv9fHE9Tb6Bv/kA4UInQzrDzoSZhNaExkStg9XDDIIigOr/uD5d/W28dvuEu157Bjt5u7G8Yr19fnC/qEDRwhoDMMPIRJdE2MTMhLeD4sMcAjOA+/+Ifqw9eXx/O4j7XnsB+3F7pfxUPW0+X3+XgMJCDMMmg8IElQTaxNLEgUQwAyuCBEEM/9i+uv1FfIe7zbteuz37KXuavEX9XT5Of4aA8oH/gtxD+0RShNyE2ISLBDzDOsIUwR4/6T6JvZF8kHvSe187Ojshu488d/0M/n1/dYCiwfHC0cP0RE/E3gTeRJSECYNJwmWBLz/5vph9nbyZO9d7X/s2+xo7hDxp/T0+LH9kwJMB5ELHA+1ETITfROPEncQWA1jCdgEAAAo+532qPKJ73Htg+zO7Evu5PBv9LT4bf1PAgwHWQvwDpgRJROBE6MSnBCKDZ8JGgVEAGr72fba8q7vh+2I7MHsL+658Dn0dfgq/QsCzQYhC8QOehEYE4QTtxK/ELsN2glcBYgArfsV9w3z1O+e7Y7stuwT7o/wAvQ2+Ob8xwGMBukKlg5bEQkThhPKEuIQ6w0VCp4FzQDv+1L3QPP777Xtleys7PjtZvDN8/f3ovyDAUwGsAppDjsR+RKHE90SBBEbDlAK3wURATL8kPd18yLwzu2d7KPs3+098Jjzufdf/D4BCwZ2CjoOGhHoEocT7hIlEUoOiQogBlUBdvzO96nzSvDn7absmuzG7RXwY/N79xz8+gDKBTwKCw75ENcShxP+EkUReA7DCmEGmQG5/Az43/Nz8AHur+yT7K3t7u8v8z732fu2AIgFAgrbDdcQxBKFEw4TZRGmDvwKogbeAfz8S/gU9J3wHO667Izslu3H7/zyAfeW+3EARgXHCasNsxCxEoMTHBOEEdIONAviBiICQP2K+Ev0yPA47sXsh+yA7aHvyfLF9lT7LQAEBYsJeQ2QEJ0SfxMqE6ER/w5sCyIHZQKE/cn4gvTz8FXu0uyC7Grtfe+X8on2Evvq/8IETwlIDWsQhxJ7EzcTvhEqD6MLYQepAsj9Cfm59B/xcu7f7H7sVu1Y72byTfbQ+qX/gAQTCRUNRhBxEnYTQhPbEVUP2gugB+0CDP5J+fL0S/GR7u3se+xC7TXvNfIS9o76Yf89BNYI4gwfEFoSbxNNE/YRfw8QDN8HMQNQ/on5KvV58bDu/Ox67C/tE+8F8tf1TPod//oDmQiuDPgPQxJoE1cTEBKoD0UMHgh0A5T+yvlj9afx0O4N7XnsHu3x7tXxnfUL+tj+twNcCHoM0Q8qEmATYBMqEtEPegxcCLcD2P4L+p311fHx7h7teewN7dDup/Fj9cr5lP50Ax4IRQyoDxASVxNoE0MS+A+uDJkI+gMd/0z61/UF8hPvL+167PzssO558Sr1iflQ/jED3wcQDH8P9hFNE28TWhIfEOIM1gg9BGH/jvoS9jXyNe9C7Xvs7eyR7kvx8vRJ+Qz+7QKgB9oLVQ/bEUITdhNxEkYQFQ0TCYAEpf/Q+k32ZvJY71btfuzf7HLuH/G59An5yP2pAmEHowsqD74RNxN7E4cSaxBIDU8JwgTq/xL7ifaX8n3vau2C7NLsVe7z8IL0yfiE/WUCIgdsC/8OoREqE38TnRKQEHkNiwkEBS0AVPvF9snyoe+A7Yfsxew47sjwS/SK+ED9IgLiBjQL0g6EERwTgxOxErMQqw3HCUYFcQCW+wH3/PLH75btjOy67BzunfAU9Ev4/PzeAaIG/AqmDmURDhOFE8QS1xDbDQIKiAW2ANn7Pvcv8+7vre2T7K/sAe5z8N/zDPi5/JkBYQbDCngORRH+EocT1xL5EAsOPArKBfoAHPx792PzFfDG7Zrspuzn7UrwqfPO93b8VQEgBokKSg4lEe4ShxPoEhoROg52CgsGPgFf/Ln3mPM98N/to+yd7M7tIvB185D3MvwRAd8FUAobDgQR3RKHE/kSOxFpDrAKTAaDAaL89/fN82bw+O2s7JXste3770DzUvfv+80AngUVCusN4hDKEoYTCRNbEZYO6QqMBscB5vw2+AL0j/AT7rbsjuye7dTvDfMV9637iABcBdoJuw2/ELcShBMYE3oRxA4hC80GCwIq/XX4OfS58C/uweyI7Iftru/a8tn2avtEABoFnwmKDZwQoxKBEyUTmBHwDlkLDAdPAm39tPhv9OTwS+7O7IPsce2J76jynfYo+wAA2ARjCVgNdxCPEn0TMhO1ERwPkQtMB5MCsf30+Kf0EPFo7tvsf+xd7WTvdvJh9ub6vP+WBCcJJg1SEHkSeBM/E9ERRw/HC4sH1gL1/TP53/Q88Ybu6Ox87EntQe9F8ib2pPp4/1ME6wjzDCwQYhJyE0oT7RFxD/4LygcaAzn+dPkX9Wrxpe737HrsNu0e7xXy6/Vi+jP/EQSuCMAMBRBLEmsTVBMIEpoPMwwJCF4Dff60+VD1l/HF7gfteewj7fzu5fGw9SH67/7OA3AIiwzeDzISYxNdEyESww9oDEcIoQPC/vX5ivXG8ebuGO157BLt2+628Xf14Pmr/ooDMghXDLYPGRJaE2YTOhLrD50MhQjkAwb/NvrE9fXxB+8p7XnsAu277ojxPfWf+Wf+RwP0ByEMjQ//EVETbRNTEhIQ0QzCCCcESv94+v71JfIp7zzte+zy7JvuWvEE9V75Iv4EA7UH7AtjD+QRRhN0E2oSORAEDf8IagSP/7r6OfZV8k3vT+197OTsfO4u8cz0Hvne/cACdge1CzgPyBE7E3kTgBJfEDcNOwmsBNP//Pp19ofycO9j7YHs1uxf7gHxlPTe+Jv9fAI3B34LDQ+rES4TfhOWEoMQaQ13Ce4EFgA++7H2uPKV73nthezJ7ELu1vBd9J/4V/04AvcGRwvhDo4RIROCE6oSqBCaDbMJMAVbAID77fbr8rrvj+2K7L7sJe6r8Cb0YPgT/fQBtwYOC7UObxETE4UTvhLLEMsN7glyBZ8Aw/sq9x7z4e+m7ZHss+wK7oHw8PMh+M/8sAF3BtYKhw5QEQQThhPREu0Q+w0pCrQF4wAG/Gf3UvMI8L3tmOyp7PDtWPC78+L3jPxsATYGnQpZDjAR8xKHE+ISDxErDmMK9QUoAUn8pPeG8y/w1u2g7KDs1u0v8IbzpPdJ/CgB9QVjCisODxHiEocT8xIwEVkOnQo2BmwBjPzi97vzWPDw7ansmOy97QjwUvNn9wb84wC0BSkK+w3tENEShhMEE1ARhw7WCncGsAHP/CH48POB8Arus+yR7Kbt4e8e8yr3w/ufAHIF7gnLDcsQvhKFExMTbxG1Dg4Ltwb0ARP9YPgm9KvwJe6+7Irsj+267+vy7faA+1sAMAWzCZoNqBCqEoITIROOEeEORwv3BjgCV/2f+F301vBC7snshex57ZXvuPKx9j77FgDuBHcJaQ2DEJYSfhMuE6sRDQ9+CzcHfAKb/d74lPQB8V/u1uyB7GPtcO+H8nX2/PrT/6wEOwk3DV8QgBJ5EzsTyBE4D7ULdgfAAt79HvnM9C7xfO7k7H3sT+1N71XyOfa6+o//agT/CAQNORBqEnQTRhPkEWMP7Au1BwQDIv5e+QT1WvGb7vLse+w87SnvJfL+9Xj6Sv8nBMII0QwSEFMSbRNRE/8RjQ8hDPQHRwNn/p/5PfWI8bvuAu157CntB+/18cT1NvoG/+QDhQidDOsPOhJmE1oTGRK2D1cMMgiKA6v+4Pl39bbx2+4S7XnsGO3m7sbxivX1+cL+oQNHCGgMww8hEl0TYxMyEt4PiwxwCM4D7/4h+rD15fH87iPteewH7cXul/FQ9bT5ff5eAwkIMwyaDwgSVBNrE0sSBRDADK4IEQQz/2L66/UV8h7vNu167Pfspe5q8Rf1dPk5/hoDygf+C3EP7RFKE3ITYhIsEPMM6whTBHj/pPom9kXyQe9J7Xzs6OyG7jzx3/Qz+fX91gKLB8cLRw/RET8TeBN5ElIQJg0nCZYEvP/m+mH2dvJk713tf+zb7GjuEPGn9PT4sf2TAkwHkQscD7URMhN9E48SdxBYDWMJ2AQAACj7nfao8onvce2D7M7sS+7k8G/0tPht/U8CDAdZC/AOmBElE4EToxKcEIoNnwkaBUQAavvZ9tryru+H7Yjswewv7rnwOfR1+Cr9CwLNBiELxA56ERgThBO3Er8Quw3aCVwFiACt+xX3DfPU757tjuy27BPuj/AC9Db45vzHAYwG6QqWDlsRCROGE8oS4hDrDRUKngXNAO/7UvdA8/vvte2V7Kzs+O1m8M3z9/ei/IMBTAawCmkOOxH5EocT3RIEERsOUArfBREBMvyQ93XzIvDO7Z3so+zf7T3wmPO591/8PgELBnYKOg4aEegShxPuEiURSg6JCiAGVQF2/M73qfNK8Oftpuya7MbtFfBj83v3HPz6AMoFPAoLDvkQ1xKHE/4SRRF4DsMKYQaZAbn8DPjf83PwAe6v7JPsre3u7y/zPvfZ+7YAiAUCCtsN1xDEEoUTDhNlEaYO/AqiBt4B/PxL+BT0nfAc7rrsjOyW7cfv/PIB95b7cQBGBccJqw2zELESgxMcE4QR0g40C+IGIgJA/Yr4S/TI8DjuxeyH7IDtoe/J8sX2VPstAAQFiwl5DZAQnRJ/EyoToRH/DmwLIgdlAoT9yfiC9PPwVe7S7ILsau1975fyifYS++r/wgRPCUgNaxCHEnsTNxO+ESoPowthB6kCyP0J+bn0H/Fy7t/sfuxW7VjvZvJN9tD6pf+ABBMJFQ1GEHESdhNCE9sRVQ/aC6AH7QIM/kn58vRL8ZHu7ex77ELtNe818hL2jvph/z0E1gjiDB8QWhJvE00T9hF/DxAM3wcxA1D+ifkq9XnxsO787HrsL+0T7wXy1/VM+h3/+gOZCK4M+A9DEmgTVxMQEqgPRQweCHQDlP7K+WP1p/HQ7g3teewe7fHu1fGd9Qv62P63A1wIegzRDyoSYBNgEyoS0Q96DFwItwPY/gv6nfXV8fHuHu157A3t0O6n8WP1yvmU/nQDHghFDKgPEBJXE2gTQxL4D64MmQj6Ax3/TPrX9QXyE+8v7Xrs/Oyw7nnxKvWJ+VD+MQPfBxAMfw/2EU0TbxNaEh8Q4gzWCD0EYf+O+hL2NfI170Lte+zt7JHuS/Hy9En5DP7tAqAH2gtVD9sRQhN2E3ESRhAVDRMJgASl/9D6TfZm8ljvVu1+7N/scu4f8bn0CfnI/akCYQejCyoPvhE3E3sThxJrEEgNTwnCBOr/EvuJ9pfyfe9q7YLs0uxV7vPwgvTJ+IT9ZQIiB2wL/w6hESoTfxOdEpAQeQ2LCQQFLQBU+8X2yfKh74Dth+zF7DjuyPBL9Ir4QP0iAuIGNAvSDoQRHBODE7ESsxCrDccJRgVxAJb7Aff88sfvlu2M7LrsHO6d8BT0S/j8/N4Bogb8CqYOZREOE4UTxBLXENsNAgqIBbYA2fs+9y/z7u+t7ZPsr+wB7nPw3/MM+Ln8mQFhBsMKeA5FEf4ShxPXEvkQCw48CsoF+gAc/Hv3Y/MV8Mbtmuym7OftSvCp8873dvxVASAGiQpKDiUR7hKHE+gSGhE6DnYKCwY+AV/8ufeY8z3w3+2j7J3szu0i8HXzkPcy/BEB3wVQChsOBBHdEocT+RI7EWkOsApMBoMBovz3983zZvD47azsley17fvvQPNS9+/7zQCeBRUK6w3iEMoShhMJE1sRlg7pCowGxwHm/Db4AvSP8BPutuyO7J7t1O8N8xX3rfuIAFwF2gm7Db8QtxKEExgTehHEDiELzQYLAir9dfg59LnwL+7B7Ijsh+2u79ry2fZq+0QAGgWfCYoNnBCjEoETJROYEfAOWQsMB08Cbf20+G/05PBL7s7sg+xx7YnvqPKd9ij7AAA=\" type=\"audio/x-wav\" />\n",
       "                    Your browser does not support the audio element.\n",
       "                </audio>\n",
       "              "
      ],
      "text/plain": [
       "<IPython.lib.display.Audio object>"
      ]
     },
     "execution_count": 74,
     "metadata": {},
     "output_type": "execute_result"
    },
    {
     "data": {
      "image/png": "[encoded data removed]",
      "text/plain": [
       "<Figure size 432x288 with 1 Axes>"
      ]
     },
     "metadata": {
      "needs_background": "light"
     },
     "output_type": "display_data"
    }
   ],
   "source": [
    "#useful vector operations and commands:\n",
    "x=np.array([1,2,3,4,5])\n",
    "print('x is:', x)\n",
    "print('length of x is', len(x))\n",
    "y=x[1:4]\n",
    "print('y is:', y)\n",
    "z=np.concatenate((x,y))\n",
    "print('z is:', z)\n",
    "w=np.multiply(x,x)\n",
    "print('w is:', w)\n",
    "print('x+x is:',x+x)\n",
    "print('x-x is:', x-x)\n",
    "print('3x is:', 3*x)\n",
    "for k in range(0,5):\n",
    "  print('k=', k,',','x[k]=',x[k])\n",
    "\n",
    "\n",
    "#making a sine wave, plotting it, and playing it:\n",
    "t=np.linspace(0,1,11025)\n",
    "x=(5000*np.sin(2*np.pi*t*440)).astype('int16')\n",
    "plt.plot(t[0:200],x[0:200])\n",
    "plt.title('x(t)=5000*cos(2*pi*440*t)')\n",
    "wav.write('A440.wav',11025,x)\n",
    "IPython.display.Audio('A440.wav')\n"
   ]
  },
  {
   "cell_type": "markdown",
   "metadata": {
    "id": "km03yEY9ol7r"
   },
   "source": [
    "## Summary\n",
    "\n",
    "In this lab, you will work through a series of exercises to introduce you to working with audio signals and explore the impact of different amplitude and time operations on signals.  This is a two-week lab.  You should plan on completing the first 2 assignments in the first week."
   ]
  },
  {
   "cell_type": "markdown",
   "metadata": {
    "id": "uz62oKg8ol7s"
   },
   "source": [
    "## Lab 1 turn in checklist\n",
    "\n",
    "•\tPre-lab (upload to canvas before lab)\n",
    "\n",
    "•\tLab 1 Jupyter notebook with code for the first 4 exercises assignment in separate cells. Each assignment cell should contain markdown cells (same as lab overview cells) for the responses to lab report questions. Include your lab members’ names at the top of the notebook.\n",
    "\n",
    "•\t1 individual Jupyter notebook with code + markdown cells for the last exercise\n",
    "\n",
    "Note: The pre-lab should be done individually, and all other assignments should be completed in groups of 3-4 people.\n"
   ]
  },
  {
   "cell_type": "markdown",
   "metadata": {
    "id": "XwJ8_npZol7s"
   },
   "source": [
    "## Assignment 1 -- Working with sound files"
   ]
  },
  {
   "cell_type": "code",
   "execution_count": null,
   "metadata": {
    "id": "bAXZaAOgol7t"
   },
   "outputs": [],
   "source": [
    "#TODO: part A: \n",
    "#Download the train.wav sound file provided. \n",
    "#Using the scipy.io wavfile package (see Background document), \n",
    "#read in the file using the saving the audio vector and sampling frequency in variables x1 and fs1, respectively. \n",
    "#Print the sampling rate (which should be 32kHz) and the shape of x1, which will tell you the length and number of channels."
   ]
  },
  {
   "cell_type": "code",
   "execution_count": null,
   "metadata": {
    "id": "YFmvAN9y3fgs"
   },
   "outputs": [],
   "source": [
    "#TODO: part B: \n",
    "#Write out two new versions of the file in wav format using different sampling rates: \n",
    "#fs2=fs1/2 (16 kHz) and fs3=1.5*fs1. \n",
    "#Note that the wav.write function requires the sampling frequency to be an integer. \n",
    "#Also, the simpleaudio package is limited in the sampling frequencies that it will support, so you cannot use arbitrary frequencies."
   ]
  },
  {
   "cell_type": "code",
   "execution_count": null,
   "metadata": {
    "id": "lGnT6_oE3tFq"
   },
   "outputs": [],
   "source": [
    "#TODO: part C: \n",
    "#Using the simpleaudio package (see Background document) \n",
    "#read in the three different versions of the train sound file and play each one. \n",
    "#(if using google colab, use IPython for playing sounds to hear, as previously demonstrated)"
   ]
  },
  {
   "cell_type": "markdown",
   "metadata": {
    "id": "pWnc-pVool7t"
   },
   "source": [
    "###  Discussion\n",
    "\n",
    "Comment on how the audio changes when the incorrect sampling frequency is used.\n"
   ]
  },
  {
   "cell_type": "markdown",
   "metadata": {
    "id": "0BqMD8G1ol7t"
   },
   "source": [
    "## Assignment 2 -- Amplitude Operations on Signals"
   ]
  },
  {
   "cell_type": "code",
   "execution_count": null,
   "metadata": {
    "id": "LqhBN0J6ol7u"
   },
   "outputs": [],
   "source": [
    "# TODO: part A: \n",
    "#Create a discrete time signal s1 that is the same length as x1 and has value 1 for t=[0,0.5] and value 0.2 for t>0.5. \n",
    "#You can use the command below where len1 is the length of x1 and n0 is the index corresponding to t=0.5\n",
    "#s1 = np.concatenate((np.ones(n0),0.2*np.ones(len(x1)-n0)))\n",
    "#Multiply x1 with s1 to create v1. Save this signal to a wav file."
   ]
  },
  {
   "cell_type": "code",
   "execution_count": null,
   "metadata": {
    "id": "SJVKLV4col7u"
   },
   "outputs": [],
   "source": [
    "#TODO: Part B\n",
    "#Create a discrete-time decaying ramp signal r1, that is the same length as x1. \n",
    "#The signal should have value 1 at time 0 and linearly decay to value 0. \n",
    "#(Hint: use np.arange or np.linspace)\n",
    "#Multiply x1 with r1 to create v2. Save this signal to a wav file."
   ]
  },
  {
   "cell_type": "code",
   "execution_count": null,
   "metadata": {
    "id": "81cygmJq6XSZ"
   },
   "outputs": [],
   "source": [
    "#TODO: Part C: \n",
    "#Read in v1 and v2 using simpleaudio\n",
    "#and play the two different modifications together with the original, to verify that the volume of the second whistle is reduced."
   ]
  },
  {
   "cell_type": "markdown",
   "metadata": {
    "id": "_xjcOI5Sol7u"
   },
   "source": [
    "###  Discussion\n",
    "\n",
    "Discuss the differences that the two modifications have on the signal. What would happen if you defined s1 to take value 2 for the [0,0.5] range? If you wanted a smooth but faster decay in amplitude, and you’re given a choice to use any signal to multiply, what signal might you use?  \n",
    "(If this helps: search up ADSR envelopes from electronic music) "
   ]
  },
  {
   "cell_type": "markdown",
   "metadata": {
    "id": "FsPQRILaol7u"
   },
   "source": [
    "## Assignment 3 -- Time Scaling Audio Signals "
   ]
  },
  {
   "cell_type": "code",
   "execution_count": 75,
   "metadata": {
    "colab": {
     "base_uri": "https://localhost:8080/",
     "height": 281
    },
    "id": "iJKUdQWcol7v",
    "outputId": "39f6d15a-0c5f-4ecb-d262-6990d9132388"
   },
   "outputs": [
    {
     "data": {
      "image/png": "[encoded data removed]",
      "text/plain": [
       "<Figure size 432x288 with 1 Axes>"
      ]
     },
     "metadata": {
      "needs_background": "light"
     },
     "output_type": "display_data"
    }
   ],
   "source": [
    "#Part A: \n",
    "#Provided for you to use throughout the lab: Time Scaling Function\n",
    "\n",
    "#feed the following inputs: \n",
    "# x: input signal vector: \"the original sound file\"\n",
    "# fs: sampling rate (in Hz)\n",
    "# a: scaling parameter\n",
    "\n",
    "#the function spits out the following outputs, computed based on those inputs: \n",
    "# y: the time-scaled output signal vector: \"newly transformed sound file\"\n",
    "# t: the list or vector of each y sample's time coordinate value\n",
    "\n",
    "def timescale(x, fs, a):\n",
    "    #n, d = decimal.Decimal(a).as_integer_ratio()\n",
    "    [n, d] = (np.double(a)).as_integer_ratio()\n",
    "    y = sig.resample_poly(x,d,n)\n",
    "    t = np.arange(0,len(y),1)*(1.0/fs)\n",
    "    return y,t\n",
    "\n",
    "#illustrative example:\n",
    "def illustrativeexample():\n",
    "  x=np.concatenate((np.linspace(0,1,100),np.linspace(1,0,100)),0)\n",
    "  fs=1\n",
    "  a=2\n",
    "  y,t = timescale(x,fs,a)\n",
    "  plt.plot(x,label='x[t]')\n",
    "  plt.plot(t,y,label='y[t]=x[at]')\n",
    "  plt.legend()\n",
    "  plt.title('timescale function demonstration')\n",
    "  return\n",
    "illustrativeexample()\n"
   ]
  },
  {
   "cell_type": "code",
   "execution_count": null,
   "metadata": {
    "id": "0Ngbbph37uqM"
   },
   "outputs": [],
   "source": [
    "#TODO: Part B: \n",
    "#Use the timescale function to obtain w(t)=x1(2t) and v(t)=x1(0.5t)\n",
    "#a. Create w(t) using a=2 and store the outputs of the timescale function as w and t_w.\n",
    "#b. Create v(t) using a=0.5 and store the outputs of the timescale function as v and t_v.\n",
    "#c. Create a time-reversed version of the signal z(t)=x1(-t) by reversing the order of elements in the sequence. \n",
    "#In order to plot in parallel with other signals, use the time vector t_z = t_x1.\n",
    "#Note: When trying to play z(t), you might get a C-contiguous error. To fix this, use z(t) = np.ascontiguousarray(z(t)).\n",
    "#d. Save the resulting signal to a wav file."
   ]
  },
  {
   "cell_type": "code",
   "execution_count": null,
   "metadata": {
    "id": "Mmmz_w0n8uN-"
   },
   "outputs": [],
   "source": [
    "#TODO: Part C: \n",
    "#Load a figure and plot the four signals (x1, w, v, and z) using a 4x1 subplot. \n",
    "#Adjust the x and y axis limits to have the same ranges in both plots. \n",
    "#Be sure to title the plots and label axes appropriately. \n",
    "#For the time axis, you should plot time in msec, for which you will need to multiple the time array by 1000 as in the example in the Background document. \n",
    "#Do not use grids on the subplots. Adjust the spacing to avoid overlap. "
   ]
  },
  {
   "cell_type": "code",
   "execution_count": null,
   "metadata": {
    "id": "jUFcPH-R8_K-"
   },
   "outputs": [],
   "source": [
    "#TODO: Part D: \n",
    "#Read in the signals you created using simpleaudio\n",
    "#Play them to verify that they sound different based on what you would expect from these transformations."
   ]
  },
  {
   "cell_type": "markdown",
   "metadata": {
    "id": "LW1tEjH5ol7v"
   },
   "source": [
    "###  Discussion\n",
    "\n",
    "Suppose a student runs the figure command before every call to subplot. When you run your script, what changes do you expect to see? How will the plots change?"
   ]
  },
  {
   "cell_type": "markdown",
   "metadata": {
    "id": "fqfMGKtsol7v"
   },
   "source": [
    "## Assignment 4 -- Time Shift Operations"
   ]
  },
  {
   "cell_type": "code",
   "execution_count": null,
   "metadata": {
    "id": "75DwCU8-ol7w"
   },
   "outputs": [],
   "source": [
    "#TODO: Part A: \n",
    "#Write a function called timeshift that takes as input: \n",
    "#a signal x, the sampling frequency fs (in Hz), and a time shift t0 (in seconds). \n",
    "#The function should implement y(t) = x(t+t0) and produce as output:\n",
    "#the portion of the shifted signal starting at time 0. \n",
    "#Assume that the original signal has value zero outside the time window. Your function should:\n",
    "#1. Find the integer shift n0 given t0 and fs.\n",
    "#2. Use conditional control that tests whether the time shift is positive or negative\n",
    "#     a. For a time delay, create y by concatenating a zero vector with the original signal. \n",
    "#     (The output should be longer than the original signal.)\n",
    "#     b. For a time advance, create y by copying the portion of the starting from n0 and then appending n0 zeroes at the end of the signal. \n",
    "#     (The output should be the same length as the original signal.)\n",
    "#3. Based on the length of the final signal and the sampling frequency: \n",
    "#create a time vector that corresponds to the output signal length, starting at 0.\n",
    "#4. Return the new signal and the time vector."
   ]
  },
  {
   "cell_type": "code",
   "execution_count": null,
   "metadata": {
    "id": "bJkqX989-EGa"
   },
   "outputs": [],
   "source": [
    "#TODO: Part B: \n",
    "#Use the function to create x1(t+0.5) and x1(t-2). \n",
    "#Plot the shifted signals with the original in a 3x1 plot: x1(t), x1(t+0.5), and x1(t-2). \n",
    "#The x-axis should be between 0 and 4 for all three plots. \n",
    "#Label axes and title the plot."
   ]
  },
  {
   "cell_type": "code",
   "execution_count": null,
   "metadata": {
    "id": "g1DUbUpi-HbC"
   },
   "outputs": [],
   "source": [
    "#TODO: Part C: \n",
    "#Play all three signals. \n",
    "#For the signal that has been advanced, you should be able to hear that part of the sound is missing, since we have not preserved those samples. \n",
    "#(in other words, it's \"off the screen\" or \"out of frame\")"
   ]
  },
  {
   "cell_type": "markdown",
   "metadata": {
    "id": "gAmGhB2Xol7w"
   },
   "source": [
    "### Discussion\n",
    "\n",
    "There is a trivial case that you should ideally test for. If the shift is zero, then the output is the original signal. If the shift is an advance bigger than the original signal, then the output will be zero. Comment on whether your current implementation correctly handles these cases and whether there is a better implementation.\n"
   ]
  }
 ],
 "metadata": {
  "colab": {
   "collapsed_sections": [],
   "name": "242TemplateL1.ipynb",
   "provenance": []
  },
  "kernelspec": {
   "display_name": "Python 3 (ipykernel)",
   "language": "python",
   "name": "python3"
  },
  "language_info": {
   "codemirror_mode": {
    "name": "ipython",
    "version": 3
   },
   "file_extension": ".py",
   "mimetype": "text/x-python",
   "name": "python",
   "nbconvert_exporter": "python",
   "pygments_lexer": "ipython3",
   "version": "3.9.7"
  }
 },
 "nbformat": 4,
 "nbformat_minor": 1
}
