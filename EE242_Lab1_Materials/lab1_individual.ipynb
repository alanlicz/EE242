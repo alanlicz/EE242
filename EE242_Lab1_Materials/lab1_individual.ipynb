{
 "cells": [
  {
   "cell_type": "markdown",
   "metadata": {
    "id": "Qts0_QFsol7p"
   },
   "source": [
    "## EE 242 Lab 1 – Modifying Signals\n",
    "\n",
    "Author names go here: Include every group member's first and last name!!"
   ]
  },
  {
   "cell_type": "code",
   "execution_count": 2,
   "metadata": {
    "id": "hCPy0RnTol7q"
   },
   "outputs": [],
   "source": [
    "# Importing the required modules: \n",
    "\n",
    "#numpy allows numerical math computation\n",
    "import numpy as np\n",
    "\n",
    "#matplotlib is for graphical plotting\n",
    "import matplotlib\n",
    "import matplotlib.pyplot as plt\n",
    "%matplotlib notebook\n",
    "%matplotlib inline\n",
    "\n",
    "#simpleaudio and wav required for importing, playing, and manipulating .wav files \n",
    "import simpleaudio as sa\n",
    "from scipy.io import wavfile as wav\n",
    "\n",
    "#needed for already provided timescale function\n",
    "import scipy.signal as sig\n",
    "\n",
    "#If you are using google colab:\n",
    "#simpleaudio is unable to emit sound from google colab, so IPython is easy workaround to allow us to hear audio playback, demonstration later. \n",
    "import IPython"
   ]
  },
  {
   "cell_type": "markdown",
   "metadata": {
    "id": "XwJ8_npZol7s"
   },
   "source": [
    "## Individual work"
   ]
  },
  {
   "cell_type": "code",
   "execution_count": 3,
   "metadata": {
    "scrolled": true
   },
   "outputs": [
    {
     "name": "stdout",
     "output_type": "stream",
     "text": [
      "channel number: 1\n"
     ]
    }
   ],
   "source": [
    "scale = sa.WaveObject.from_wave_file('scale.wav')\n",
    "scale_flip = sa.WaveObject.from_wave_file('scale_flip.wav')\n",
    "channel = scale.num_channels\n",
    "print(\"channel number:\", channel)\n",
    "fs_scale, data_scale = wav.read('scale.wav')\n",
    "fs_scale_flip, data_scale_flip = wav.read('scale_flip.wav')\n",
    "#zeroArray = np.zeros(5553) # align audio length\n",
    "#data_toad = np.concatenate((zeroArray, data_toad), axis = None)\n"
   ]
  },
  {
   "cell_type": "markdown",
   "metadata": {},
   "source": [
    "### Addition"
   ]
  },
  {
   "cell_type": "code",
   "execution_count": 6,
   "metadata": {},
   "outputs": [
    {
     "data": {
      "text/plain": [
       "(64008,)"
      ]
     },
     "execution_count": 6,
     "metadata": {},
     "output_type": "execute_result"
    }
   ],
   "source": [
    "data_add = (np.add(data_scale, data_scale_flip))\n",
    "outfileAdd = 'addition.wav'\n",
    "wav.write(outfileAdd, 8000, data_add.astype('int16'))\n",
    "addition = sa.WaveObject.from_wave_file('addition.wav')\n",
    "addition.play().wait_done()\n",
    "data_add.shape"
   ]
  },
  {
   "cell_type": "markdown",
   "metadata": {},
   "source": [
    "### Multiplication "
   ]
  },
  {
   "cell_type": "code",
   "execution_count": 4,
   "metadata": {},
   "outputs": [],
   "source": [
    "r1 = np.linspace(1, 0, data_scale.size)\n",
    "decay = np.multiply(data_scale, r1)\n",
    "outfile = 'decay.wav'\n",
    "wav.write(outfile, 8000, decay.astype('int16'))\n",
    "multiplication = sa.WaveObject.from_wave_file('decay.wav')\n",
    "multiplication.play().wait_done()"
   ]
  },
  {
   "cell_type": "markdown",
   "metadata": {},
   "source": [
    "### Time scaling"
   ]
  },
  {
   "cell_type": "code",
   "execution_count": 5,
   "metadata": {},
   "outputs": [],
   "source": [
    "def timescale(x, fs, a):\n",
    "    #n, d = decimal.Decimal(a).as_integer_ratio()\n",
    "    [n, d] = (np.double(a)).as_integer_ratio()\n",
    "    y = sig.resample_poly(x,d,n)\n",
    "    t = np.arange(0,len(y),1)*(1.0/fs)\n",
    "    return y,t\n",
    "\n",
    "fs_scale, t_scale = timescale(data_scale, 8000, 3)\n",
    "outfileScale = 'time_scale.wav'\n",
    "wav.write(outfileScale, 8000, fs_scale.astype('int16'))\n",
    "wav_obj_scale = sa.WaveObject.from_wave_file('time_scale.wav')\n",
    "wav_obj_scale.play().wait_done()"
   ]
  },
  {
   "cell_type": "markdown",
   "metadata": {},
   "source": [
    "### Time shifting"
   ]
  },
  {
   "cell_type": "code",
   "execution_count": 6,
   "metadata": {},
   "outputs": [],
   "source": [
    "def timeshift(x, fs, t0):\n",
    "    n = int(np.abs(t0 * fs));\n",
    "    if (t0 < 0):\n",
    "        y1 = np.zeros(n) # time delay, so the first n samples are zero according to the assignment description\n",
    "        # y2 = x[n0:x.size - n]     \n",
    "        y = np.concatenate((y1, x), axis=None)\n",
    "    else:\n",
    "        y1 = x[n:x.size] # time advance, the left most n samples are discarded\n",
    "        y2 = np.zeros(n) # fill in the rest with 0 according to the lab description \n",
    "        y = np.concatenate((y1, y2), axis=None)\n",
    "    t = np.arange(0,len(y),1)*(1.0/fs) # copy from assignment3 example\n",
    "    return y, t\n",
    "\n",
    "fs_shift, t_shift = timeshift(data_scale, 8000, -2)\n",
    "outfileShift = 'time_shift.wav'\n",
    "wav.write(outfileShift, 8000, fs_shift.astype('int16'))\n",
    "wav_obj_shift = sa.WaveObject.from_wave_file('time_shift.wav')\n",
    "wav_obj_shift.play().wait_done()"
   ]
  },
  {
   "cell_type": "code",
   "execution_count": null,
   "metadata": {},
   "outputs": [],
   "source": []
  }
 ],
 "metadata": {
  "colab": {
   "collapsed_sections": [],
   "name": "242TemplateL1.ipynb",
   "provenance": []
  },
  "kernelspec": {
   "display_name": "Python 3 (ipykernel)",
   "language": "python",
   "name": "python3"
  },
  "language_info": {
   "codemirror_mode": {
    "name": "ipython",
    "version": 3
   },
   "file_extension": ".py",
   "mimetype": "text/x-python",
   "name": "python",
   "nbconvert_exporter": "python",
   "pygments_lexer": "ipython3",
   "version": "3.9.7"
  }
 },
 "nbformat": 4,
 "nbformat_minor": 1
}
